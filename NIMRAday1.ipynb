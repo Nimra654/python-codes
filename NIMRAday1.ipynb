{
 "cells": [
  {
   "cell_type": "code",
   "execution_count": null,
   "id": "faba459a-400c-454d-a470-ed7459d4ecc8",
   "metadata": {},
   "outputs": [],
   "source": []
  },
  {
   "cell_type": "code",
   "execution_count": 1,
   "id": "60c4a5f6-e271-4e83-be3e-117ad92e0cb3",
   "metadata": {},
   "outputs": [
    {
     "name": "stdout",
     "output_type": "stream",
     "text": [
      "NIMR\n"
     ]
    }
   ],
   "source": [
    "print(\"NIMR\")"
   ]
  },
  {
   "cell_type": "code",
   "execution_count": 2,
   "id": "2ed00010-8b4e-43a1-a678-29f49781df5a",
   "metadata": {},
   "outputs": [
    {
     "name": "stdout",
     "output_type": "stream",
     "text": [
      "NIMRA\n"
     ]
    }
   ],
   "source": [
    "print(\"NIMRA\")"
   ]
  },
  {
   "cell_type": "code",
   "execution_count": 4,
   "id": "2ef5f94e-978a-4e1d-a0e7-32a570f79a68",
   "metadata": {},
   "outputs": [
    {
     "name": "stdout",
     "output_type": "stream",
     "text": [
      "15/04/2004\n"
     ]
    }
   ],
   "source": [
    "print(\"15/04/2004\")"
   ]
  },
  {
   "cell_type": "code",
   "execution_count": null,
   "id": "efcf3b3d-c6cf-4102-bc99-005fbd69a050",
   "metadata": {},
   "outputs": [],
   "source": []
  }
 ],
 "metadata": {
  "kernelspec": {
   "display_name": "Python 3 (ipykernel)",
   "language": "python",
   "name": "python3"
  },
  "language_info": {
   "codemirror_mode": {
    "name": "ipython",
    "version": 3
   },
   "file_extension": ".py",
   "mimetype": "text/x-python",
   "name": "python",
   "nbconvert_exporter": "python",
   "pygments_lexer": "ipython3",
   "version": "3.12.3"
  }
 },
 "nbformat": 4,
 "nbformat_minor": 5
}

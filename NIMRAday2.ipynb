{
 "cells": [
  {
   "cell_type": "code",
   "execution_count": 1,
   "id": "fa167ad6-602e-455d-b3ed-eb073cbcd8b6",
   "metadata": {},
   "outputs": [
    {
     "name": "stdin",
     "output_type": "stream",
     "text": [
      "enter the numbers 2 3 50\n"
     ]
    },
    {
     "name": "stdout",
     "output_type": "stream",
     "text": [
      "2350\n"
     ]
    }
   ],
   "source": [
    "a,b,c=input(\"enter the numbers\").split()\n",
    "d=a+b+c\n",
    "print(d)"
   ]
  },
  {
   "cell_type": "code",
   "execution_count": 6,
   "id": "061ab6d8-32f4-4624-b809-c81b1e762910",
   "metadata": {},
   "outputs": [
    {
     "name": "stdin",
     "output_type": "stream",
     "text": [
      "enter the temperature -3\n"
     ]
    },
    {
     "name": "stdout",
     "output_type": "stream",
     "text": [
      "water can be freezed now\n"
     ]
    }
   ],
   "source": [
    " temp=float(input(\"enter the temperature\"))\n",
    "if temp<=0:\n",
    "    print(\"water can be freezed now\")\n",
    "else:\n",
    "    print(\"water cannot be freezed now\")"
   ]
  },
  {
   "cell_type": "code",
   "execution_count": 9,
   "id": "80202fdd-cb6a-4a32-a09d-e6ccdd4a074b",
   "metadata": {},
   "outputs": [
    {
     "name": "stdin",
     "output_type": "stream",
     "text": [
      "enter the value of a  2\n",
      "enter the value of b  3\n"
     ]
    },
    {
     "name": "stdout",
     "output_type": "stream",
     "text": [
      "5\n"
     ]
    }
   ],
   "source": [
    "a=int(input(\"enter the value of a \"))\n",
    "b=int(input(\"enter the value of b \"))\n",
    "c=a+b\n",
    "print(c)"
   ]
  },
  {
   "cell_type": "code",
   "execution_count": 12,
   "id": "6dc0021c-bf4a-4202-ab22-442b6deed9ab",
   "metadata": {},
   "outputs": [
    {
     "name": "stdin",
     "output_type": "stream",
     "text": [
      "enter the value of a  2\n",
      "enter the value of b  3\n"
     ]
    },
    {
     "name": "stdout",
     "output_type": "stream",
     "text": [
      "3\n",
      "b is greater\n"
     ]
    }
   ],
   "source": [
    "a=int(input(\"enter the value of a \"))\n",
    "b=int(input(\"enter the value of b \"))\n",
    "\n",
    "if a>b:\n",
    "    print(a)\n",
    "    print( \"a is greater\")\n",
    "else:\n",
    "    print(b)\n",
    "    print(\"b is greater\")"
   ]
  },
  {
   "cell_type": "code",
   "execution_count": 17,
   "id": "f0171955-94c7-4b90-bbe2-73b488e87829",
   "metadata": {},
   "outputs": [
    {
     "name": "stdin",
     "output_type": "stream",
     "text": [
      "enter the value of a  5\n",
      "enter the value of b  8\n",
      "enter the value of c  12\n"
     ]
    },
    {
     "name": "stdout",
     "output_type": "stream",
     "text": [
      "12\n",
      "c is greater\n"
     ]
    }
   ],
   "source": [
    "a=int(input(\"enter the value of a \"))\n",
    "b=int(input(\"enter the value of b \"))\n",
    "c=int(input(\"enter the value of c \"))\n",
    "if a>b:\n",
    "    if a>c:\n",
    "        print(a)\n",
    "        print( \"a is greater\")\n",
    "    else :\n",
    "        print(c)\n",
    "        print(\"c is greater\")\n",
    "\n",
    "else:\n",
    "    if b>c:\n",
    "        print(b)\n",
    "        print(\"b is greater\")\n",
    "    else:\n",
    "        print(c)\n",
    "        print(\"c is greater\")\n",
    "        \n"
   ]
  },
  {
   "cell_type": "code",
   "execution_count": 18,
   "id": "2cb0d4bc-d1bf-4b01-977b-04010f183371",
   "metadata": {},
   "outputs": [
    {
     "name": "stdin",
     "output_type": "stream",
     "text": [
      "enter the value of a  4\n",
      "enter the value of b  9\n",
      "enter the value of c  1\n"
     ]
    },
    {
     "name": "stdout",
     "output_type": "stream",
     "text": [
      "1\n",
      "c is smallest\n"
     ]
    }
   ],
   "source": [
    "a=int(input(\"enter the value of a \"))\n",
    "b=int(input(\"enter the value of b \"))\n",
    "c=int(input(\"enter the value of c \"))\n",
    "if a<b:\n",
    "    if a<c:\n",
    "        print(a)\n",
    "        print( \"a is smallest\")\n",
    "    else :\n",
    "        print(c)\n",
    "        print(\"c is smallest\")\n",
    "\n",
    "else:\n",
    "    if b<c:\n",
    "        print(b)\n",
    "        print(\"b is smallest\")\n",
    "    else:\n",
    "        print(c)\n",
    "        print(\"c is smallest\")\n",
    "        \n"
   ]
  },
  {
   "cell_type": "code",
   "execution_count": 30,
   "id": "b96fa9a9-fdad-4f21-bbdc-7afdd11587c4",
   "metadata": {},
   "outputs": [
    {
     "name": "stdin",
     "output_type": "stream",
     "text": [
      "enter the marks  88\n"
     ]
    },
    {
     "name": "stdout",
     "output_type": "stream",
     "text": [
      "grade:A\n"
     ]
    }
   ],
   "source": [
    "marks=int(input(\"enter the marks \"))\n",
    "if marks>=90 and marks<=100:\n",
    "    print(\"grade:A+\")\n",
    "elif marks>100:\n",
    "    print(\"invalid marks entered\")\n",
    "elif marks>=80:\n",
    "    print(\"grade:A\")\n",
    "elif marks>=70:\n",
    "    print(\"grade:B+\")\n",
    "elif marks>=60:\n",
    "    print(\"grade:B\")\n",
    "elif marks>=50:\n",
    "    print(\"grade:C\")\n",
    "elif marks>=40:\n",
    "    print(\"grade:D\")\n",
    "elif marks>=30:\n",
    "    print(\"grade:E\")\n",
    "elif marks<0:\n",
    "    print(\"invalid marks entered\")\n",
    "else:\n",
    "    print(\"fail\")\n"
   ]
  },
  {
   "cell_type": "code",
   "execution_count": 35,
   "id": "87a8b51e-08f2-45e6-ac2e-20aa03e96629",
   "metadata": {},
   "outputs": [
    {
     "name": "stdin",
     "output_type": "stream",
     "text": [
      "enter the day no. 10\n"
     ]
    },
    {
     "name": "stdout",
     "output_type": "stream",
     "text": [
      "there are no 10 days in a week\n"
     ]
    }
   ],
   "source": [
    "days=int(input(\"enter the day no.\"))\n",
    "\n",
    "match days:\n",
    "    case 1: print(\"sunday\")\n",
    "    case 2: print(\"monday\")\n",
    "    case 3: print(\"tuesday\")\n",
    "    case 4: print(\"wednesday\")\n",
    "    case 5: print(\"thursday\")\n",
    "    case 6: print(\"friday\")\n",
    "    case 7: print(\"satueday\")\n",
    "    case _ if days==10:\n",
    "        print(\"there are no 10 days in a week\")\n",
    "    case _: \n",
    "        print(days)\n",
    "        print(\"invalid \")\n",
    "                           \n",
    "     "
   ]
  },
  {
   "cell_type": "code",
   "execution_count": 37,
   "id": "2a2f8694-df6a-4048-b3f3-42b7d5b39109",
   "metadata": {},
   "outputs": [
    {
     "name": "stdout",
     "output_type": "stream",
     "text": [
      "0\n",
      "1\n",
      "2\n",
      "3\n",
      "4\n",
      "5\n",
      "6\n",
      "7\n",
      "8\n",
      "9\n"
     ]
    }
   ],
   "source": [
    "for y in range(0,10):\n",
    "    print (y)"
   ]
  },
  {
   "cell_type": "code",
   "execution_count": 40,
   "id": "bc152836-dcfb-457f-8467-563c6a0eb5c7",
   "metadata": {},
   "outputs": [
    {
     "name": "stdout",
     "output_type": "stream",
     "text": [
      "0\n",
      "1\n",
      "2\n",
      "3\n",
      "4\n",
      "5\n",
      "6\n",
      "7\n",
      "8\n",
      "9\n"
     ]
    }
   ],
   "source": [
    "x=0\n",
    "while x<10:\n",
    "   print(x)\n",
    "   x=x+1"
   ]
  },
  {
   "cell_type": "code",
   "execution_count": 48,
   "id": "ac612943-e3b7-4663-a473-2883c20c8b9c",
   "metadata": {},
   "outputs": [
    {
     "name": "stdout",
     "output_type": "stream",
     "text": [
      " * \n",
      " *  * \n",
      " *  *  * \n",
      " *  *  *  * \n",
      " *  *  *  *  * \n"
     ]
    }
   ],
   "source": [
    "x=0\n",
    "y=0\n",
    "for x in range(0,5):\n",
    "    for y in range(0,x+1):\n",
    "        print(\" * \",end=\"\")\n",
    "    print()"
   ]
  },
  {
   "cell_type": "code",
   "execution_count": 53,
   "id": "9f55153c-a880-4574-87d3-984a042c8833",
   "metadata": {},
   "outputs": [
    {
     "name": "stdout",
     "output_type": "stream",
     "text": [
      "  0  \n",
      "  1    1  \n",
      "  2    2    2  \n",
      "  3    3    3    3  \n",
      "  4    4    4    4    4  \n"
     ]
    }
   ],
   "source": [
    "for x in range(0,5):\n",
    "    for y in range(0,x+1):\n",
    "        print(\" \", x, \" \" ,end=\"\")\n",
    "    print()"
   ]
  },
  {
   "cell_type": "code",
   "execution_count": 55,
   "id": "063ae7d3-81c1-48b2-8a74-c76947d08c4e",
   "metadata": {},
   "outputs": [
    {
     "name": "stdout",
     "output_type": "stream",
     "text": [
      "  0  \n",
      "  0    1  \n",
      "  0    1    2  \n",
      "  0    1    2    3  \n",
      "  0    1    2    3    4  \n"
     ]
    }
   ],
   "source": [
    "for x in range(0,5):\n",
    "    for y in range(0,x+1):\n",
    "        print(\" \", y,\" \",end=\"\")\n",
    "    print()"
   ]
  },
  {
   "cell_type": "code",
   "execution_count": 58,
   "id": "aefc7793-a0d5-4c9f-ae07-ab6a51a8528a",
   "metadata": {},
   "outputs": [
    {
     "name": "stdout",
     "output_type": "stream",
     "text": [
      "1\n",
      "2\n",
      "3\n",
      "4\n",
      "5\n",
      "6\n",
      "7\n",
      "8\n",
      "9\n"
     ]
    }
   ],
   "source": [
    "for y in range(1,10,1):\n",
    "    print(y)"
   ]
  },
  {
   "cell_type": "code",
   "execution_count": 59,
   "id": "43bfc148-110c-423a-bb6b-be652977f68c",
   "metadata": {},
   "outputs": [
    {
     "name": "stdout",
     "output_type": "stream",
     "text": [
      "10\n",
      "9\n",
      "8\n",
      "7\n",
      "6\n",
      "5\n",
      "4\n",
      "3\n",
      "2\n"
     ]
    }
   ],
   "source": [
    "for y in range(10,1,-1):\n",
    "    print(y)"
   ]
  },
  {
   "cell_type": "code",
   "execution_count": 62,
   "id": "e5e7cd19-29c4-4ee2-8596-49f5a6959f44",
   "metadata": {},
   "outputs": [
    {
     "name": "stdout",
     "output_type": "stream",
     "text": [
      "1   10\n",
      "2   10\n",
      "3   10\n",
      "4   10\n",
      "5   10\n",
      "6   10\n",
      "7   10\n",
      "8   10\n",
      "9   10\n"
     ]
    }
   ],
   "source": [
    "x=0\n",
    "while x<10:\n",
    "   x=x+1\n",
    "for y in range(1,10,1):\n",
    "   print(y,\" \",x)\n",
    "    "
   ]
  },
  {
   "cell_type": "code",
   "execution_count": 67,
   "id": "4b4499b0-444b-4051-ba47-9a5b82a596de",
   "metadata": {},
   "outputs": [
    {
     "name": "stdout",
     "output_type": "stream",
     "text": [
      " *  *  *  *  * \n",
      " *  *  *  * \n",
      " *  *  * \n",
      " *  * \n",
      " * \n",
      "\n"
     ]
    }
   ],
   "source": [
    "for x in range(6,0,-1):\n",
    "    for y in range(0,x-1):\n",
    "        print(\" * \",end=\"\")\n",
    "    print()"
   ]
  },
  {
   "cell_type": "code",
   "execution_count": 66,
   "id": "79b61392-4cbb-4ce9-8ee3-d3748614f6c9",
   "metadata": {},
   "outputs": [
    {
     "name": "stdout",
     "output_type": "stream",
     "text": [
      " * \n",
      " *  * \n",
      " *  *  * \n",
      " *  *  *  * \n",
      " *  *  *  *  * \n"
     ]
    }
   ],
   "source": [
    "for x in range(0,5):\n",
    "    for y in range(0,x+1):\n",
    "        print(\" * \",end=\"\")\n",
    "    print()"
   ]
  },
  {
   "cell_type": "code",
   "execution_count": 72,
   "id": "a36e282e-6d2c-4f4a-b914-c962b496d1c0",
   "metadata": {},
   "outputs": [
    {
     "name": "stdin",
     "output_type": "stream",
     "text": [
      "enter the number of terms: 3\n"
     ]
    },
    {
     "name": "stdout",
     "output_type": "stream",
     "text": [
      "fib series:\n",
      "0\n",
      "2\n",
      "2\n",
      "2\n",
      "2\n",
      "4\n"
     ]
    }
   ],
   "source": [
    "term=int(input(\"enter the number of terms:\"))\n",
    "n1=0\n",
    "n2=2\n",
    "count=0\n",
    "if term<0:\n",
    "    print(\"invalid input; enter only positive integer\")\n",
    "elif term==1:\n",
    "    print(\"the series is:\",n1)\n",
    "else:\n",
    "    print(\"fib series:\")\n",
    "    while count<term:\n",
    "        print(n1)\n",
    "        n=n1+n2\n",
    "        n1=n2\n",
    "        n2=n\n",
    "        count=count+1"
   ]
  },
  {
   "cell_type": "code",
   "execution_count": 80,
   "id": "a35915d2-8195-440d-b177-85597945aa30",
   "metadata": {},
   "outputs": [
    {
     "name": "stdin",
     "output_type": "stream",
     "text": [
      "enter the number of terms: 3\n"
     ]
    },
    {
     "name": "stdout",
     "output_type": "stream",
     "text": [
      "1\n",
      "2\n",
      "3\n",
      "\n"
     ]
    }
   ],
   "source": [
    "#fibonacci serier\n",
    "n = int(input(\"enter the number of terms:\"))\n",
    "num1 = 0\n",
    "num2 = 1\n",
    "next = num2  \n",
    "count = 1\n",
    " \n",
    "while count <= n:\n",
    "    print(next)\n",
    "    count += 1\n",
    "    num1, num2 = num2, next\n",
    "    next = num1 + num2\n",
    "print()"
   ]
  },
  {
   "cell_type": "code",
   "execution_count": 86,
   "id": "c4ff5aaa-52d3-476a-9cbb-a23edd4bd6bf",
   "metadata": {},
   "outputs": [
    {
     "name": "stdin",
     "output_type": "stream",
     "text": [
      "enter the number of terms: 5\n"
     ]
    },
    {
     "name": "stdout",
     "output_type": "stream",
     "text": [
      "0\n",
      "1\n",
      "1\n",
      "2\n",
      "3\n"
     ]
    }
   ],
   "source": [
    "#fibonacci serier 2\n",
    "n = int(input(\"enter the number of terms:\"))\n",
    "a = 0\n",
    "b = 1\n",
    "print(a)\n",
    "print(b)\n",
    "\n",
    "for x in range(0,n-2):\n",
    "    c=a+b\n",
    "    print(c)\n",
    "    a=b\n",
    "    b=c"
   ]
  },
  {
   "cell_type": "code",
   "execution_count": 89,
   "id": "93ab7cfb-4d77-46dc-91f1-41206fcf7bd2",
   "metadata": {},
   "outputs": [
    {
     "name": "stdin",
     "output_type": "stream",
     "text": [
      " 4\n",
      " 5\n"
     ]
    },
    {
     "name": "stdout",
     "output_type": "stream",
     "text": [
      "sum= 9\n"
     ]
    }
   ],
   "source": [
    "#functions\n",
    "\n",
    "def add(x,y):\n",
    "    z=x+y\n",
    "    print(\"sum=\",z)\n",
    "    #return z\n",
    "\n",
    "a=int(input())\n",
    "b=int(input())\n",
    "add(a,b)\n",
    "#print(\"sum=\",add(a,b))"
   ]
  },
  {
   "cell_type": "code",
   "execution_count": null,
   "id": "bc2bef1d-f1be-4fbf-8d72-951c6d203c10",
   "metadata": {},
   "outputs": [],
   "source": []
  }
 ],
 "metadata": {
  "kernelspec": {
   "display_name": "Python 3 (ipykernel)",
   "language": "python",
   "name": "python3"
  },
  "language_info": {
   "codemirror_mode": {
    "name": "ipython",
    "version": 3
   },
   "file_extension": ".py",
   "mimetype": "text/x-python",
   "name": "python",
   "nbconvert_exporter": "python",
   "pygments_lexer": "ipython3",
   "version": "3.12.3"
  }
 },
 "nbformat": 4,
 "nbformat_minor": 5
}

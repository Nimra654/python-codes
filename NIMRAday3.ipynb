{
 "cells": [
  {
   "cell_type": "code",
   "execution_count": null,
   "id": "071c92ff-50d3-44fd-9b2e-ff7955bba32b",
   "metadata": {},
   "outputs": [],
   "source": [
    "#a+(size of*[])\n",
    "#1000+(4*0)\n",
    "#1000-> addres of 1 element of array"
   ]
  },
  {
   "cell_type": "code",
   "execution_count": 1,
   "id": "e049e978-4839-4271-b731-0ce73c68f19d",
   "metadata": {},
   "outputs": [
    {
     "name": "stdout",
     "output_type": "stream",
     "text": [
      "[1, 2, 3, 4]\n"
     ]
    }
   ],
   "source": [
    "#creating an list\n",
    "\n",
    "a=[1,2,3,4]\n",
    "print(a)"
   ]
  },
  {
   "cell_type": "code",
   "execution_count": 2,
   "id": "bf14d0fe-2e0e-4311-9580-a7f2b506a7e5",
   "metadata": {},
   "outputs": [
    {
     "name": "stdout",
     "output_type": "stream",
     "text": [
      "[1, 2, 3, 4]\n",
      "3\n"
     ]
    }
   ],
   "source": [
    "#access members\n",
    "\n",
    "a=[1,2,3,4]\n",
    "print(a)\n",
    "print(a[2])"
   ]
  },
  {
   "cell_type": "code",
   "execution_count": 3,
   "id": "f82e6e79-52fd-4d83-956b-5b86c6131e8a",
   "metadata": {},
   "outputs": [
    {
     "name": "stdout",
     "output_type": "stream",
     "text": [
      "[1, 2, 3, 4]\n",
      "<class 'list'>\n"
     ]
    }
   ],
   "source": [
    "#type of array\n",
    "\n",
    "a=[1,2,3,4]\n",
    "print(a)\n",
    "print(type(a))"
   ]
  },
  {
   "cell_type": "code",
   "execution_count": 30,
   "id": "9abf8452-7a37-42ac-9000-58d711b6bbdd",
   "metadata": {},
   "outputs": [
    {
     "name": "stdout",
     "output_type": "stream",
     "text": [
      "5.6\n",
      "i\n"
     ]
    },
    {
     "data": {
      "text/plain": [
       "4"
      ]
     },
     "execution_count": 30,
     "metadata": {},
     "output_type": "execute_result"
    }
   ],
   "source": [
    "a=[1,2,5.6,'nimra']\n",
    "#it can store elements of diffrent types\n",
    "print(a[2])\n",
    "print(a[3][1])\n",
    "len(a)"
   ]
  },
  {
   "cell_type": "code",
   "execution_count": 7,
   "id": "2b255198-1120-4a7a-800b-a6fa50712e52",
   "metadata": {},
   "outputs": [
    {
     "name": "stdout",
     "output_type": "stream",
     "text": [
      "<class 'int'>\n",
      "<class 'float'>\n",
      "<class 'str'>\n"
     ]
    }
   ],
   "source": [
    "#determine type of elements in a list\n",
    "\n",
    "a=[1,2,5.6,'nimra']\n",
    "print(type(a[1]))\n",
    "print(type(a[2]))\n",
    "print(type(a[3]))"
   ]
  },
  {
   "cell_type": "code",
   "execution_count": 18,
   "id": "7aa9443b-91c6-4920-b3cf-aed6e4236c7b",
   "metadata": {},
   "outputs": [
    {
     "name": "stdout",
     "output_type": "stream",
     "text": [
      "1\n",
      "2\n",
      "3\n",
      "5\n",
      "6\n",
      "\n",
      "2.3\n",
      "5.99\n",
      "nimra\n",
      "1\n",
      "hello\n",
      "world\n"
     ]
    }
   ],
   "source": [
    "#using loops to print list\n",
    "\n",
    "a=[1,2,3,5,6,9]\n",
    "for i in range(0,5):\n",
    "    print(a[i])\n",
    "print()\n",
    "\n",
    "\n",
    "\n",
    "b=[2.3,5.99,'nimra',1,'hello','world']\n",
    "for j in range(0,6):\n",
    "    print(b[j])"
   ]
  },
  {
   "cell_type": "code",
   "execution_count": 27,
   "id": "b1315995-8584-4d49-8759-9c132c6932eb",
   "metadata": {},
   "outputs": [
    {
     "name": "stdout",
     "output_type": "stream",
     "text": [
      "6   n\n",
      "6   i\n",
      "6   m\n",
      "6   r\n",
      "6   a\n"
     ]
    }
   ],
   "source": [
    "a=[1,2,3,5,6]\n",
    "for i in range(0,5):\n",
    "    b=['n','i','m','r','a']\n",
    "for j in range(0,5):\n",
    "    print(a[i],\" \",b[j])"
   ]
  },
  {
   "cell_type": "code",
   "execution_count": 29,
   "id": "a75025e3-4b6e-4556-9d71-394a01bfd05c",
   "metadata": {},
   "outputs": [
    {
     "name": "stdout",
     "output_type": "stream",
     "text": [
      "  n  i  m  r  a"
     ]
    }
   ],
   "source": [
    "b=['n','i','m','r','a']\n",
    "for j in range(0,5):\n",
    "    print(\" \",b[j],end=\"\")"
   ]
  },
  {
   "cell_type": "code",
   "execution_count": null,
   "id": "1b2b80cb-ac76-42be-9167-eb62b8d0106e",
   "metadata": {},
   "outputs": [],
   "source": [
    "Functions which are commonly used in PYTHON:\n",
    "    1.def copy->copy the list                                                        b=a.copy()\n",
    "    2.def append->append the list(add new element)                                   b.append(9)\n",
    "    3.def extend->extend the list                                                    b.extend(a)->add elements of b in existing elements of a\n",
    "    4.def pop->remove an element from list(default:last)                             c=b.pop(3)\n",
    "    5.def index->returns 1st index value                                             b.index(9)-> 9 is element in list\n",
    "    6.def count->returns the no. duplicate elements(no. of occurance of a value)     b.count(9)\n",
    "    7.def insert->inset a value before index                                         b.insert(4,9)-> insert 9 at 4th location\n",
    "    8.def remove->remove the 1st occurance of a valur                                b.remove(9)-> first 9 from the list is removed\n",
    "    9.def sort->sort the ist in ascending order                                      b.sort(reverse=True)\n",
    "    *10.len(list)->length of the list                                                len(b)"
   ]
  },
  {
   "cell_type": "code",
   "execution_count": 45,
   "id": "cc83b774-5e0b-4f6c-90ce-c9f3a2f58c3b",
   "metadata": {},
   "outputs": [
    {
     "name": "stdout",
     "output_type": "stream",
     "text": [
      "copy \n",
      " [1, 9, 2, 3, 4, 5]\n",
      "extend \n",
      " [1, 9, 2, 3, 4, 5, 1, 9, 2, 3, 4, 5]\n",
      "pop \n",
      " [1, 9, 2, 4, 5, 1, 9, 2, 3, 4, 5]\n",
      "append \n",
      " [1, 9, 2, 4, 5, 1, 9, 2, 3, 4, 5, 9]\n",
      "index \n",
      " 1\n",
      "count \n",
      " 3\n",
      "insert \n",
      " [1, 9, 2, 4, 9, 5, 1, 9, 2, 3, 4, 5, 9]\n",
      "remove \n",
      " [1, 2, 4, 9, 5, 1, 9, 2, 3, 4, 5, 9]\n",
      "reverse \n",
      " [9, 9, 9, 5, 5, 4, 4, 3, 2, 2, 1, 1]\n",
      "length \n",
      " 12\n"
     ]
    }
   ],
   "source": [
    "#using functions\n",
    "\n",
    "a=[1,9,2,3,4,5]\n",
    "b=a.copy()\n",
    "print(\"copy\",\"\\n\",b)\n",
    "\n",
    "b.extend(a)\n",
    "print(\"extend\",\"\\n\",b)\n",
    "\n",
    "c=b.pop(3)\n",
    "print(\"pop\",\"\\n\",b)\n",
    "\n",
    "b.append(9)\n",
    "print(\"append\",\"\\n\",b)\n",
    "\n",
    "print(\"index\",\"\\n\",b.index(9))\n",
    "\n",
    "print(\"count\",\"\\n\",b.count(9))\n",
    "\n",
    "b.insert(4,9)\n",
    "print(\"insert\",\"\\n\",b)\n",
    "\n",
    "b.remove(9)\n",
    "print(\"remove\",\"\\n\",b)\n",
    "\n",
    "b.sort(reverse=True)\n",
    "print(\"reverse\",\"\\n\",b)\n",
    "\n",
    "print(\"length\",\"\\n\",len(b))"
   ]
  },
  {
   "cell_type": "code",
   "execution_count": 43,
   "id": "d261c9fe-b6b4-4de8-9019-5c4b368fef36",
   "metadata": {},
   "outputs": [
    {
     "name": "stdout",
     "output_type": "stream",
     "text": [
      "1\n",
      "3\n",
      "5\n",
      "6\n",
      "7\n",
      "8\n"
     ]
    }
   ],
   "source": [
    "#for each loop\n",
    "\n",
    "a=[1,3,5,6,7,8]\n",
    "for x in a:\n",
    "    print(x)"
   ]
  },
  {
   "cell_type": "code",
   "execution_count": 17,
   "id": "58e19dd7-0c26-4ac5-86d7-531fabe96064",
   "metadata": {},
   "outputs": [
    {
     "name": "stdin",
     "output_type": "stream",
     "text": [
      "enter size of list 3\n",
      " 1 2 3 \n",
      " 1 3 4\n",
      " 4 5 6\n"
     ]
    },
    {
     "name": "stdout",
     "output_type": "stream",
     "text": [
      "['1 2 3 ', '1 3 4', '4 5 6']\n"
     ]
    }
   ],
   "source": [
    "#creating list taking input from user(method:1)\n",
    "\n",
    "n=int(input(\"enter size of list\"))\n",
    "a=[]\n",
    "\n",
    "for i in range(0,n):\n",
    "    i=input()\n",
    "    a.append(i)\n",
    "print(a)"
   ]
  },
  {
   "cell_type": "code",
   "execution_count": 57,
   "id": "d27d953a-e4f9-4db6-a432-d981b916bf62",
   "metadata": {},
   "outputs": [
    {
     "name": "stdin",
     "output_type": "stream",
     "text": [
      "enter element in the list: nim vin nik\n"
     ]
    },
    {
     "name": "stdout",
     "output_type": "stream",
     "text": [
      "['nim', 'vin', 'nik']\n"
     ]
    },
    {
     "name": "stdin",
     "output_type": "stream",
     "text": [
      "enter element in the list: 18 14 17\n"
     ]
    },
    {
     "name": "stdout",
     "output_type": "stream",
     "text": [
      "[18, 14, 17]\n",
      "['nim', 'vin', 'nik'] \n",
      " [18, 14, 17]\n"
     ]
    }
   ],
   "source": [
    "#creating list taking input from user(method:2)\n",
    "\n",
    "#storing string\n",
    "l=[item for item in (input(\"enter element in the list:\").split())]\n",
    "print(l)\n",
    "\n",
    "\n",
    "#storing integer\n",
    "h=[int(item) for item in (input(\"enter element in the list:\").split())]\n",
    "print(h)\n",
    "\n",
    "print(l,\"\\n\",h)"
   ]
  },
  {
   "cell_type": "code",
   "execution_count": 58,
   "id": "14e56c20-bd16-400e-9487-925b66039762",
   "metadata": {},
   "outputs": [
    {
     "name": "stdout",
     "output_type": "stream",
     "text": [
      "(1, 2, 3.4, 'nim', 9.999)\n"
     ]
    }
   ],
   "source": [
    "#touples(this cant be updated)\n",
    "#to update touple then update it into list\n",
    "\n",
    "a=(1,2,3.4,'nim',9.999)\n",
    "print(a)"
   ]
  },
  {
   "cell_type": "code",
   "execution_count": 61,
   "id": "5fec7886-6d06-4047-a376-52a2397edd99",
   "metadata": {},
   "outputs": [
    {
     "name": "stdout",
     "output_type": "stream",
     "text": [
      "(1, 2, 3.4, 'nim', 9.999)\n",
      "[1, 2, 3.4, 'nim', 9.999]\n",
      "[1, 'hello', 3.4, 'nim', 9.999]\n"
     ]
    }
   ],
   "source": [
    "#convert touple into list\n",
    "\n",
    "a=(1,2,3.4,'nim',9.999)\n",
    "print(a)\n",
    "\n",
    "\n",
    "#converting touple->list / ()->[]\n",
    "b=list(a)\n",
    "print(b)\n",
    "\n",
    "#updating converted b list\n",
    "b[1]='hello'\n",
    "print(b)\n"
   ]
  },
  {
   "cell_type": "code",
   "execution_count": 9,
   "id": "c4614db0-4687-4721-a324-a984c87ef4c9",
   "metadata": {},
   "outputs": [
    {
     "name": "stdout",
     "output_type": "stream",
     "text": [
      "4\n",
      "\n",
      "5\n",
      "4\n",
      "3\n",
      "2\n",
      "1\n"
     ]
    }
   ],
   "source": [
    "#reverse a list\n",
    "\n",
    "a=[1,2,3,4,5]\n",
    "\n",
    "for i in range(-1,-1*(len(a)+1),-1):\n",
    "    print(a[i])\n"
   ]
  },
  {
   "cell_type": "code",
   "execution_count": 10,
   "id": "932ac858-362a-4752-a64e-f5c7faf7fad7",
   "metadata": {},
   "outputs": [
    {
     "name": "stdout",
     "output_type": "stream",
     "text": [
      "5\n",
      "4\n",
      "3\n",
      "2\n",
      "1\n"
     ]
    }
   ],
   "source": [
    "#reverse a list2\n",
    "\n",
    "a=[1,2,3,4,5]\n",
    "\n",
    "for i in range(0,len(a)):\n",
    "    print(a[-1*(i+1)])"
   ]
  },
  {
   "cell_type": "code",
   "execution_count": 12,
   "id": "59451d2d-a63d-4bc5-91b4-54cfdc599db3",
   "metadata": {},
   "outputs": [
    {
     "name": "stdout",
     "output_type": "stream",
     "text": [
      "e\n",
      "d\n",
      "c\n",
      "b\n",
      "a\n"
     ]
    }
   ],
   "source": [
    "#reverse string in list\n",
    "\n",
    "a=['a','b','c','d','e']\n",
    "\n",
    "for i in range(0,len(a)):\n",
    "    print(a[-1*(i+1)])"
   ]
  },
  {
   "cell_type": "code",
   "execution_count": 13,
   "id": "5ddfef5c-b80a-4be3-8739-35570aeaad01",
   "metadata": {},
   "outputs": [
    {
     "name": "stdout",
     "output_type": "stream",
     "text": [
      "{1: 'nimra', 2: 'hello'}\n"
     ]
    }
   ],
   "source": [
    "#dictonary\n",
    "\n",
    "d={1:\"nimra\" , 2:\"hello\"}\n",
    "print(d)"
   ]
  },
  {
   "cell_type": "code",
   "execution_count": 21,
   "id": "3165c904-72c0-46cc-ae78-43d357dd6760",
   "metadata": {},
   "outputs": [
    {
     "name": "stdout",
     "output_type": "stream",
     "text": [
      "world\n",
      "dict_keys([1, 2, 3])\n",
      "dict_values(['nimra', 'hello', 'world'])\n",
      "dict_items([(1, 'nimra'), (2, 'hello'), (3, 'world')])\n",
      "hello\n"
     ]
    }
   ],
   "source": [
    "#slicing dictonary\n",
    "\n",
    "d={1:\"nimra\" , 2:\"hello\" , 3:\"world\"}\n",
    "print(d[3])\n",
    "print(d.keys())\n",
    "print(d.values())\n",
    "print(d.items())\n",
    "print(d.get(2))\n"
   ]
  },
  {
   "cell_type": "code",
   "execution_count": 32,
   "id": "8cb99dcd-ffd0-4231-9fa6-fe49da66dca7",
   "metadata": {},
   "outputs": [
    {
     "name": "stdin",
     "output_type": "stream",
     "text": [
      "enter the key 3\n",
      "enter the value bye\n"
     ]
    },
    {
     "name": "stdout",
     "output_type": "stream",
     "text": [
      "key is already present\n"
     ]
    }
   ],
   "source": [
    "#program to take key and value from the user and add it into the dictonary if not present orelse print key already exists \n",
    "\n",
    "key=int(input(\"enter the key\"))\n",
    "value=input(\"enter the value\")\n",
    "d={1:\"nim\" , 2:\"hello\" , 3:\"world\"}\n",
    "\n",
    "if key in d:\n",
    "    print(\"key is already present\")\n",
    "\n",
    "else:\n",
    "    d[key]=value\n",
    "    print(d)\n"
   ]
  },
  {
   "cell_type": "code",
   "execution_count": 2,
   "id": "be42cf19-a55d-461e-ae17-20e6a6f11a6c",
   "metadata": {},
   "outputs": [
    {
     "name": "stdout",
     "output_type": "stream",
     "text": [
      "NIMRA\n"
     ]
    }
   ],
   "source": [
    "a=\"nimra\"\n",
    "print(a.upper())"
   ]
  },
  {
   "cell_type": "code",
   "execution_count": 7,
   "id": "600b7e14-b692-4daf-b37e-90ac65bce259",
   "metadata": {},
   "outputs": [
    {
     "name": "stdin",
     "output_type": "stream",
     "text": [
      " 5\n",
      " 0\n"
     ]
    },
    {
     "name": "stdout",
     "output_type": "stream",
     "text": [
      "we cant divide by zero\n",
      "error handled\n",
      "we have recieved the result as :  0\n"
     ]
    }
   ],
   "source": [
    "#exception handling\n",
    "\n",
    "a=int(input())\n",
    "b=int(input())\n",
    "try:\n",
    "    c=a/b\n",
    "except:\n",
    "    print(\"we cant divide by zero\")\n",
    "    c=0\n",
    "else:\n",
    "    print(\"division sucessful\")\n",
    "    print(c)\n",
    "finally:\n",
    "    print(\"error handled\")\n",
    "print(\"we have recieved the result as : \",c)"
   ]
  },
  {
   "cell_type": "code",
   "execution_count": 9,
   "id": "8fbcd744-c680-4be6-ab4e-8d2251282c87",
   "metadata": {},
   "outputs": [
    {
     "name": "stdin",
     "output_type": "stream",
     "text": [
      " 5\n",
      " 2\n"
     ]
    },
    {
     "name": "stdout",
     "output_type": "stream",
     "text": [
      "2.5\n"
     ]
    }
   ],
   "source": [
    "#without exception\n",
    "\n",
    "a=int(input())\n",
    "b=int(input())\n",
    "c=a/b\n",
    "print(c)\n"
   ]
  },
  {
   "cell_type": "code",
   "execution_count": 15,
   "id": "ef0a122a-e55e-43d4-876d-2cc51359e9aa",
   "metadata": {},
   "outputs": [
    {
     "name": "stdin",
     "output_type": "stream",
     "text": [
      "enter the index value 5\n"
     ]
    },
    {
     "name": "stdout",
     "output_type": "stream",
     "text": [
      "index 5  is available 16\n",
      "found sucessfully\n",
      "exception handled\n"
     ]
    }
   ],
   "source": [
    "#create a list of 10 elements ask the user to insert a index then print it , if we dont have tat index value then exeption shd be handled\n",
    "\n",
    "a=[11,12,13,14,15,16,17,18,19,20]\n",
    "\n",
    "index=int(input(\"enter the index value\"))\n",
    "try:\n",
    "    val=a[index]\n",
    "    print(\"index\",index,\" is available\",a[index])\n",
    "except:\n",
    "    print(\"entere index is more than the lists limit\")\n",
    "else:\n",
    "    print(\"found sucessfully\")\n",
    "finally:\n",
    "    print(\"exception handled\")\n"
   ]
  },
  {
   "cell_type": "code",
   "execution_count": 23,
   "id": "e4d92291-099a-4f68-84b2-d5233e3126f6",
   "metadata": {},
   "outputs": [
    {
     "name": "stdin",
     "output_type": "stream",
     "text": [
      " 5\n",
      " 2\n"
     ]
    },
    {
     "name": "stdout",
     "output_type": "stream",
     "text": [
      "some unknown error\n",
      "code execution done\n"
     ]
    }
   ],
   "source": [
    "#more exceptions\n",
    "\n",
    "\n",
    "a=int(input())\n",
    "b=int(input())\n",
    "try:\n",
    "    c=a/b\n",
    "except ValueError:\n",
    "    print(\"value unable to convert\")\n",
    "except ZeroDivisionError:\n",
    "    print(\"cant be divided by zero\")\n",
    "except:\n",
    "    print(\"some unknown error\")\n",
    "else:\n",
    "    print(\"No Error found\")\n",
    "    print(\"result=\",c)\n",
    "finally:\n",
    "    print(\"code execution done\")"
   ]
  },
  {
   "cell_type": "code",
   "execution_count": 27,
   "id": "55dbed94-62ea-44a5-a9c3-2b5b2e351bec",
   "metadata": {},
   "outputs": [
    {
     "name": "stdin",
     "output_type": "stream",
     "text": [
      " 5\n",
      " 0\n"
     ]
    },
    {
     "name": "stdout",
     "output_type": "stream",
     "text": [
      "cant be divided by zero\n",
      "code execution done\n"
     ]
    }
   ],
   "source": [
    "try:\n",
    "    a=input()\n",
    "    b=input()\n",
    "    c=int(a)/int(b)\n",
    "except ValueError:\n",
    "    print(\"value unable to convert\")\n",
    "except ZeroDivisionError:\n",
    "    print(\"cant be divided by zero\")\n",
    "except:\n",
    "    print(\"some unknown error\")\n",
    "else:\n",
    "    print(\"No Error found\")\n",
    "    print(\"result=\",c)\n",
    "finally:\n",
    "    print(\"code execution done\")"
   ]
  },
  {
   "cell_type": "code",
   "execution_count": null,
   "id": "f45fe669-5fd8-4f5f-bf8c-0a22dc2436cd",
   "metadata": {},
   "outputs": [],
   "source": []
  }
 ],
 "metadata": {
  "kernelspec": {
   "display_name": "Python 3 (ipykernel)",
   "language": "python",
   "name": "python3"
  },
  "language_info": {
   "codemirror_mode": {
    "name": "ipython",
    "version": 3
   },
   "file_extension": ".py",
   "mimetype": "text/x-python",
   "name": "python",
   "nbconvert_exporter": "python",
   "pygments_lexer": "ipython3",
   "version": "3.12.3"
  },
  "widgets": {
   "application/vnd.jupyter.widget-state+json": {
    "state": {},
    "version_major": 2,
    "version_minor": 0
   }
  }
 },
 "nbformat": 4,
 "nbformat_minor": 5
}

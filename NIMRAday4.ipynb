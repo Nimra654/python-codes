{
 "cells": [
  {
   "cell_type": "code",
   "execution_count": null,
   "id": "d5895c74-6d90-4c1d-a7ae-e7b9f7a69f24",
   "metadata": {},
   "outputs": [],
   "source": [
    "#day4"
   ]
  },
  {
   "cell_type": "code",
   "execution_count": 13,
   "id": "3e74056b-0008-41e0-a384-2c1693b7b94b",
   "metadata": {},
   "outputs": [
    {
     "name": "stdin",
     "output_type": "stream",
     "text": [
      "enter the number 21\n"
     ]
    },
    {
     "name": "stdout",
     "output_type": "stream",
     "text": [
      "21 is not a prime number\n"
     ]
    }
   ],
   "source": [
    "#prime number\n",
    "\n",
    "num = int(input(\"enter the number\"))\n",
    "if num > 1:\n",
    "     for i in range(2, (num//2)+1):\n",
    "         if (num % i) == 0:\n",
    "            print(num, \"is not a prime number\")\n",
    "            break\n",
    "     else:\n",
    "        print(num, \"is a prime number\")\n",
    "else:\n",
    "    print(num, \"is not a prime number\")"
   ]
  },
  {
   "cell_type": "code",
   "execution_count": 15,
   "id": "6938b0bb-c4ab-4e28-9590-2b63251897b6",
   "metadata": {},
   "outputs": [
    {
     "name": "stdin",
     "output_type": "stream",
     "text": [
      "enter the number 3\n"
     ]
    }
   ],
   "source": [
    "num = int(input(\"enter the number\"))\n",
    "if num > 1:\n",
    "     for i in range(2, (num//2)+1):\n",
    "         if (num % i) == 0:\n",
    "            print(num, \"is not a prime number\")\n",
    "            break\n",
    "     else:\n",
    "        print(num, \"is not a prime number\")\n",
    "else:\n",
    "    print(num, \"is not a prime number\")"
   ]
  },
  {
   "cell_type": "code",
   "execution_count": 22,
   "id": "9bd9e5c9-39ab-4652-8ed9-b5e4d02289e5",
   "metadata": {},
   "outputs": [
    {
     "name": "stdin",
     "output_type": "stream",
     "text": [
      " 3\n"
     ]
    },
    {
     "name": "stdout",
     "output_type": "stream",
     "text": [
      "3 is  a prime number\n"
     ]
    }
   ],
   "source": [
    "num=int(input())\n",
    "flag=0\n",
    "for i in range(2, int(num//2)+1):\n",
    "    if (num % i) == 0:\n",
    "        flag=1\n",
    "        break\n",
    "if flag==1:\n",
    "    print(num, \"is not a prime number\")\n",
    "else:\n",
    "    print(num, \"is  a prime number\")\n",
    "\n",
    "    \n",
    "        "
   ]
  },
  {
   "cell_type": "code",
   "execution_count": 25,
   "id": "447e1c0c-04fe-4477-b519-bc3d865a2a94",
   "metadata": {},
   "outputs": [],
   "source": [
    "#file handling\n",
    "\n",
    "import os"
   ]
  },
  {
   "cell_type": "code",
   "execution_count": 67,
   "id": "ccdd606f-eec3-42da-a53b-5ad8db89e25e",
   "metadata": {},
   "outputs": [],
   "source": [
    "#open a file and write in a file\n",
    "\n",
    "import os\n",
    "\n",
    "with open(\"first.txt\",'w')as f:\n",
    "    f.write(\"this is my first text file hello world\")\n",
    "    f.close()"
   ]
  },
  {
   "cell_type": "code",
   "execution_count": 65,
   "id": "0094fd87-8a1b-48fb-b993-00c24f77d26c",
   "metadata": {},
   "outputs": [],
   "source": [
    "#adding text to the existing ones using append\n",
    "\n",
    "import os\n",
    "\n",
    "with open(\"first.txt\",'a')as f:\n",
    "    f.write(\"  hi earth \")\n",
    "    f.close()"
   ]
  },
  {
   "cell_type": "code",
   "execution_count": 71,
   "id": "7ae12c06-05a0-48f8-83f4-af05fabd2db4",
   "metadata": {},
   "outputs": [
    {
     "name": "stdout",
     "output_type": "stream",
     "text": [
      "this is my first text file hello world\n",
      "this file is for practice\n",
      "good luck\n",
      "\n"
     ]
    }
   ],
   "source": [
    "#open a file and read in a file\n",
    "\n",
    "import os\n",
    "\n",
    "with open(\"first.txt\",'r')as f:\n",
    "    a=f.read()\n",
    "    print(a)"
   ]
  },
  {
   "cell_type": "code",
   "execution_count": 74,
   "id": "ea70c810-c20e-4a19-ae98-667bf1595c91",
   "metadata": {},
   "outputs": [
    {
     "name": "stdout",
     "output_type": "stream",
     "text": [
      "this is my first text file hello world\n",
      "this file is for practice\n",
      "good luck\n",
      "\n"
     ]
    }
   ],
   "source": [
    "#open a file and read in a file\n",
    "\n",
    "import os\n",
    "\n",
    "f = open(\"first.txt\", \"r\")\n",
    "print(f.read())"
   ]
  },
  {
   "cell_type": "code",
   "execution_count": 82,
   "id": "21a23972-f70a-4614-9143-8ffc8d249d56",
   "metadata": {},
   "outputs": [
    {
     "name": "stdout",
     "output_type": "stream",
     "text": [
      "this \n",
      "is my first \n",
      "text\n"
     ]
    }
   ],
   "source": [
    "#slicing specific content/text from file\n",
    "\n",
    "import os\n",
    "\n",
    "f=open(\"first.txt\",'r')\n",
    "print(f.read(5))\n",
    "print(f.read(12))\n",
    "print(f.read(4))"
   ]
  },
  {
   "cell_type": "code",
   "execution_count": 85,
   "id": "1832c608-a662-40de-bf13-ba9e80acc0a0",
   "metadata": {},
   "outputs": [
    {
     "name": "stdout",
     "output_type": "stream",
     "text": [
      "this\n",
      "is\n",
      "my\n",
      "first\n",
      "text\n",
      "file\n",
      "hello\n",
      "world\n",
      "this\n",
      "file\n",
      "is\n",
      "for\n",
      "practice\n",
      "good\n",
      "luck\n"
     ]
    }
   ],
   "source": [
    "#reading word by word\n",
    "\n",
    "import os\n",
    "\n",
    "with open(\"first.txt\",'r')as f:\n",
    "    for a in f.read().split():\n",
    "        print(a)\n",
    "        \n",
    "f.close()        "
   ]
  },
  {
   "cell_type": "code",
   "execution_count": 60,
   "id": "10911830-6167-430c-bedb-b023e17fe3f9",
   "metadata": {},
   "outputs": [],
   "source": [
    "#remove the file\n",
    "\n",
    "import os\n",
    "\n",
    "with open(\"first.txt\",'w')as f:\n",
    "    f.write(\"this is my first text file\")\n",
    "    f.close()\n",
    "\n",
    "os.remove(\"first.txt\")"
   ]
  },
  {
   "cell_type": "code",
   "execution_count": null,
   "id": "6b9d99e5-7d12-4f55-b41e-1600ac2ef5b7",
   "metadata": {},
   "outputs": [],
   "source": []
  }
 ],
 "metadata": {
  "kernelspec": {
   "display_name": "Python 3 (ipykernel)",
   "language": "python",
   "name": "python3"
  },
  "language_info": {
   "codemirror_mode": {
    "name": "ipython",
    "version": 3
   },
   "file_extension": ".py",
   "mimetype": "text/x-python",
   "name": "python",
   "nbconvert_exporter": "python",
   "pygments_lexer": "ipython3",
   "version": "3.12.3"
  },
  "widgets": {
   "application/vnd.jupyter.widget-state+json": {
    "state": {},
    "version_major": 2,
    "version_minor": 0
   }
  }
 },
 "nbformat": 4,
 "nbformat_minor": 5
}

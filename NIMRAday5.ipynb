{
 "cells": [
  {
   "cell_type": "code",
   "execution_count": null,
   "id": "ac56ca99-12db-4ad0-8319-fb30d41121b2",
   "metadata": {},
   "outputs": [],
   "source": [
    "#day 5                                                                                          19/04/24"
   ]
  },
  {
   "cell_type": "code",
   "execution_count": 2,
   "id": "2d853c5a-793f-4a6c-a641-402c0da8c882",
   "metadata": {},
   "outputs": [
    {
     "name": "stdin",
     "output_type": "stream",
     "text": [
      "enter the fruit name \n",
      " apple\n",
      "enter the fruit name \n",
      " banana\n",
      "enter the fruit name \n",
      " mango\n",
      "enter the fruit name \n",
      " grapes\n"
     ]
    },
    {
     "name": "stdout",
     "output_type": "stream",
     "text": [
      "apple\n",
      "banana\n",
      "mango\n",
      "grapes\n",
      "\n"
     ]
    },
    {
     "name": "stdin",
     "output_type": "stream",
     "text": [
      "enter fruit name u want to replace mango\n",
      "enter with what you want to replace watermelon\n"
     ]
    },
    {
     "name": "stdout",
     "output_type": "stream",
     "text": [
      "apple\n",
      "banana\n",
      "watermelon\n",
      "grapes\n",
      "\n"
     ]
    }
   ],
   "source": [
    "import os\n",
    "\n",
    "with open(\"fruit_name.txt\",'w') as f:\n",
    "    for i in range(0,4):\n",
    "        f.write(input(\"enter the fruit name \\n\"))\n",
    "        f.write(\"\\n\")\n",
    "    \n",
    "\n",
    "with open(\"fruit_name.txt\",'r')as f:\n",
    "    a=f.read()\n",
    "    print(a)\n",
    "\n",
    "    n=input(\"enter fruit name u want to replace\")\n",
    "    m=input(\"enter with what you want to replace\")\n",
    "    \n",
    "    replaced_contents = a.replace(n,m)\n",
    "    print(replaced_contents )\n",
    "f.close()"
   ]
  },
  {
   "cell_type": "code",
   "execution_count": 3,
   "id": "a2f2a29f-212d-46c9-9c3e-5ef1892d43fb",
   "metadata": {},
   "outputs": [
    {
     "name": "stdout",
     "output_type": "stream",
     "text": [
      "file doesnt exist\n"
     ]
    }
   ],
   "source": [
    "#exception handling in files1\n",
    "\n",
    "import os\n",
    "\n",
    "try:\n",
    "    with open(\"sample.txt\",'r') as f:\n",
    "        pass\n",
    "except FileNotFoundError:\n",
    "    print(\"file doesnt exist\")"
   ]
  },
  {
   "cell_type": "code",
   "execution_count": 4,
   "id": "b482f269-217e-4be8-8bb9-8ebf074b93a1",
   "metadata": {},
   "outputs": [],
   "source": [
    "#exception handling in files\n",
    "\n",
    "import os\n",
    "\n",
    "try:\n",
    "    with open(\"sample.txt\",'w') as f:\n",
    "        pass\n",
    "except FileNotFoundError:\n",
    "    print(\"file doesnt exist\")\n",
    "\n",
    "#here if the file is not present , it will be created as we r opening a file in write mode"
   ]
  },
  {
   "cell_type": "code",
   "execution_count": 15,
   "id": "44de7e29-8031-48b2-977b-3189cba1cefe",
   "metadata": {},
   "outputs": [],
   "source": [
    "import os\n",
    "\n",
    "try:\n",
    "    with open(\"sample.txt\",'w') as f:\n",
    "        f.write(\"hello everyone!\")\n",
    "except FileNotFoundError:\n",
    "    print(\"file doesnt exist\")\n"
   ]
  },
  {
   "cell_type": "code",
   "execution_count": 16,
   "id": "37f32f21-b9a0-40b1-9e7d-8f5350161ce7",
   "metadata": {},
   "outputs": [
    {
     "name": "stdout",
     "output_type": "stream",
     "text": [
      "hello everyone!\n",
      "\n"
     ]
    }
   ],
   "source": [
    "import os\n",
    "\n",
    "try:\n",
    "    with open(\"sample.txt\",'r+') as f:\n",
    "        a=f.read()\n",
    "        print(a)\n",
    "        f.write(\" how r u all!\")\n",
    "        a=f.read()\n",
    "        print(a)\n",
    "        \n",
    "except FileNotFoundError:\n",
    "    print(\"file doesnt exist\")\n",
    "\n",
    "#if we use \"r+\" while opening a file the we can also add/write into the file, \n",
    "#which will be added after the content which is already present  "
   ]
  },
  {
   "cell_type": "code",
   "execution_count": 17,
   "id": "594579d8-9018-4743-b669-b9cb1efd85f9",
   "metadata": {},
   "outputs": [
    {
     "name": "stdout",
     "output_type": "stream",
     "text": [
      "new one\n"
     ]
    }
   ],
   "source": [
    "#overwriting using write function\n",
    "\n",
    "import os\n",
    "\n",
    "with open(\"sample.txt\",'w') as f:\n",
    "        f.write(\"new one\")\n",
    "\n",
    "with open(\"sample.txt\",'r+') as f:\n",
    "        a=f.read()\n",
    "        print(a)\n",
    "\n",
    "#all the existing content will be replaced whith the new content "
   ]
  },
  {
   "cell_type": "code",
   "execution_count": null,
   "id": "24fc1a92-21fd-438f-a66f-eb2205bf8d2d",
   "metadata": {},
   "outputs": [],
   "source": []
  },
  {
   "cell_type": "code",
   "execution_count": 20,
   "id": "108e5182-4521-49f3-bf95-19e73c2d3d58",
   "metadata": {},
   "outputs": [],
   "source": [
    "#OOP's concept"
   ]
  },
  {
   "cell_type": "markdown",
   "id": "1bf891f7-f998-4f84-9ef0-6118c14a8896",
   "metadata": {},
   "source": [
    "pillars of oops\n",
    "1.abstraction\n",
    "2.inheritance\n",
    "3.encapsulation\n",
    "4.polymorphism"
   ]
  },
  {
   "cell_type": "code",
   "execution_count": 24,
   "id": "84137787-085c-4358-a719-ecf3d66a6856",
   "metadata": {},
   "outputs": [
    {
     "name": "stdout",
     "output_type": "stream",
     "text": [
      "5\n"
     ]
    }
   ],
   "source": [
    "#creating class\n",
    "\n",
    "class MyClass:\n",
    "  x = 5\n",
    "  print(x)"
   ]
  },
  {
   "cell_type": "code",
   "execution_count": 26,
   "id": "c51709f4-3602-4713-8a44-a149b9adc95c",
   "metadata": {},
   "outputs": [
    {
     "name": "stdout",
     "output_type": "stream",
     "text": [
      "this laptop has 8gb RAM and 1tb SSD\n",
      "30\n"
     ]
    }
   ],
   "source": [
    "#creating class\n",
    "#class always take 1 argument (self-->denote itself)\n",
    "\n",
    "class laptop:\n",
    "    a=10\n",
    "    b=20\n",
    "    def config(self):          #creating a function with self argument\n",
    "        print(\"this laptop has 8gb RAM and 1tb SSD\")\n",
    "\n",
    "hp=laptop()                   \n",
    "hp.config()\n",
    "c=hp.a+hp.b                   #we can access variables declared in class using dot poerator(.)\n",
    "print(c)\n"
   ]
  },
  {
   "cell_type": "code",
   "execution_count": null,
   "id": "fc2f39f1-7902-4ff7-b9c3-6e024473b140",
   "metadata": {},
   "outputs": [],
   "source": [
    "#overloading init function\n",
    "\n",
    "class laptop:\n",
    "    a=10\n",
    "    b=20\n",
    "    def __init__(self,value):\n",
    "        self.b=value\n"
   ]
  },
  {
   "cell_type": "markdown",
   "id": "49307c59-2865-49da-a6dc-b4099e19ed0b",
   "metadata": {},
   "source": [
    "Q1:create a laptop class with variables\n",
    "processor ,Ram,storage\n",
    "create a function to print configuration\n",
    "creat 3 objects with diffrent brand and display its configuration"
   ]
  },
  {
   "cell_type": "code",
   "execution_count": 37,
   "id": "d7eb7ba9-640b-4eba-a470-d12664c14d8b",
   "metadata": {},
   "outputs": [
    {
     "name": "stdout",
     "output_type": "stream",
     "text": [
      "configuration of laptop iis:\n",
      "processor: i5\n",
      "RAM: 8\n",
      "storage: 512\n",
      "configuration of laptop iis:\n",
      "processor: i7\n",
      "RAM: 7\n",
      "storage: 128\n",
      "configuration of laptop iis:\n",
      "processor: i5\n",
      "RAM: 5\n",
      "storage: 512\n"
     ]
    }
   ],
   "source": [
    "class laptop:\n",
    "    def __init__(self,p,r,s):             #creating variables\n",
    "        self.processor=p\n",
    "        self.RAM=r\n",
    "        self.storage=s\n",
    "    \n",
    "    def config(self):\n",
    "        print(\"configuration of laptop iis:\")\n",
    "        print(\"processor:\",self.processor)\n",
    "        print(\"RAM:\",self.RAM)\n",
    "        print(\"storage:\",self.storage)\n",
    "\n",
    "#to define main:\n",
    "if __name__==\"__main__\":\n",
    "\n",
    "    dell=laptop(\"i5\",8,512)\n",
    "    hp=laptop(\"i7\",7,128)\n",
    "    acer=laptop(\"i5\",5,512)\n",
    "\n",
    "dell.config()\n",
    "hp.config()\n",
    "acer.config()\n"
   ]
  },
  {
   "cell_type": "markdown",
   "id": "a55fe3c9-3761-47fe-9315-2d9f96121271",
   "metadata": {},
   "source": [
    "Q2:create a class student which can hold the marks of 5 subject and also create a function to print the marks\n",
    "and calculate the average of 5 subjects"
   ]
  },
  {
   "cell_type": "code",
   "execution_count": 39,
   "id": "0dd3ae2f-558d-4668-9b0a-84e2bcdde4c4",
   "metadata": {},
   "outputs": [
    {
     "name": "stdout",
     "output_type": "stream",
     "text": [
      "average =  79.4\n"
     ]
    }
   ],
   "source": [
    "#create a class of 5 sub of each student n a function to calculate and print average\n",
    "\n",
    "class student:\n",
    "    def __init__(self,s1,s2,s3,s4,s5):\n",
    "        self.sub1=s1\n",
    "        self.sub2=s2\n",
    "        self.sub3=s3\n",
    "        self.sub4=s4\n",
    "        self.sub5=s5\n",
    "\n",
    "    def avg(self):\n",
    "        total=self.sub1+self.sub2+self.sub3+self.sub4+self.sub5\n",
    "        avg=total/5\n",
    "        print(\"average = \",avg)\n",
    "\n",
    "#to define main:\n",
    "if __name__==\"__main__\":\n",
    "    student1=student(90,95,55,87,70)\n",
    "\n",
    "student1.avg()"
   ]
  },
  {
   "cell_type": "code",
   "execution_count": 41,
   "id": "24b9b688-3a37-49c4-9aed-1c0ef1c57644",
   "metadata": {},
   "outputs": [
    {
     "name": "stdin",
     "output_type": "stream",
     "text": [
      "enter the marks 90\n",
      "enter the marks 85\n",
      "enter the marks 45\n",
      "enter the marks 33\n",
      "enter the marks 99\n"
     ]
    },
    {
     "name": "stdout",
     "output_type": "stream",
     "text": [
      "average =  70.4\n"
     ]
    }
   ],
   "source": [
    "#taking input from user\n",
    "\n",
    "class student:\n",
    "    def __init__(self,s1,s2,s3,s4,s5):\n",
    "        self.sub1=s1\n",
    "        self.sub2=s2\n",
    "        self.sub3=s3\n",
    "        self.sub4=s4\n",
    "        self.sub5=s5\n",
    "\n",
    "    def avg(self):\n",
    "        total=self.sub1+self.sub2+self.sub3+self.sub4+self.sub5\n",
    "        avg=total/5\n",
    "        print(\"average = \",avg)\n",
    "\n",
    "#to define main:\n",
    "if __name__==\"__main__\":\n",
    "    st1=int(input(\"enter the marks\"))\n",
    "    st2=int(input(\"enter the marks\"))\n",
    "    st3=int(input(\"enter the marks\"))\n",
    "    st4=int(input(\"enter the marks\"))\n",
    "    st5=int(input(\"enter the marks\"))\n",
    "    student1=student(st1,st2,st3,st4,st5)\n",
    "\n",
    "student1.avg()"
   ]
  },
  {
   "cell_type": "code",
   "execution_count": null,
   "id": "a3770bf4-fcd1-42e4-a9f3-264fda0746fd",
   "metadata": {},
   "outputs": [],
   "source": [
    "#access specifiers"
   ]
  },
  {
   "cell_type": "markdown",
   "id": "0b666c09-47a7-4ed6-a099-e186f91ce0c0",
   "metadata": {},
   "source": [
    "access modifiers\n",
    "1.public --> normal\n",
    "2.protected --> single underscore(_)\n",
    "3.private --> dounle underscore(__)"
   ]
  },
  {
   "cell_type": "code",
   "execution_count": 43,
   "id": "be179d46-a839-411e-9a30-7a324dd7b76c",
   "metadata": {},
   "outputs": [
    {
     "name": "stdout",
     "output_type": "stream",
     "text": [
      "1\n"
     ]
    }
   ],
   "source": [
    "#demo program on access specifier\n",
    "\n",
    "class demo:\n",
    "    def __init__(self,a,b,c):\n",
    "        self.x=a                #public\n",
    "        self._y=b               #protected\n",
    "        self.__z=c              #private\n",
    "\n",
    "    def output_z(self):\n",
    "        print(self.__z)\n",
    "    def output_y(self):\n",
    "        print(self._y)\n",
    "    def output_x(self):\n",
    "        print(self.x)\n",
    "\n",
    "onj1=demo(1,2,3)\n",
    "onj1.output_x()\n",
    "#onj1.output_y()                #private and protected members cant be accessed and this shows an error when compiled\n",
    "#onj1.output_z()\n",
    "    "
   ]
  },
  {
   "cell_type": "code",
   "execution_count": 1,
   "id": "d996559d-ca54-4e41-bb25-c60608c73411",
   "metadata": {},
   "outputs": [
    {
     "name": "stdout",
     "output_type": "stream",
     "text": [
      "this is function 1\n",
      "this is function 2\n",
      "this is function 3\n",
      "this is function 4\n"
     ]
    }
   ],
   "source": [
    "#inheritance\n",
    "#normal program without inheritance\n",
    "\n",
    "class a:\n",
    "    def fun1(self):\n",
    "        print(\"this is function 1\")\n",
    "    def fun2(self):\n",
    "        print(\"this is function 2\")\n",
    "\n",
    "class b:\n",
    "    def fun3(self):\n",
    "        print(\"this is function 3\")\n",
    "    def fun4(self):\n",
    "        print(\"this is function 4\")\n",
    "\n",
    "if __name__==\"__main__\":\n",
    "    ob1=a()\n",
    "    ob2=b()\n",
    "\n",
    "    ob1.fun1()\n",
    "    ob1.fun2()\n",
    "    ob2.fun3()\n",
    "    ob2.fun4()\n",
    "    #ob2.fun1()        #shows error"
   ]
  },
  {
   "cell_type": "code",
   "execution_count": 2,
   "id": "7908ef9e-d753-41c0-8de4-e2b4241d732c",
   "metadata": {},
   "outputs": [
    {
     "name": "stdout",
     "output_type": "stream",
     "text": [
      "this is function 1\n",
      "this is function 2\n",
      "this is function 3\n",
      "this is function 4\n",
      "this is function 1\n"
     ]
    }
   ],
   "source": [
    "#with inheritance\n",
    "\n",
    "class a:\n",
    "    def fun1(self):\n",
    "        print(\"this is function 1\")\n",
    "    def fun2(self):\n",
    "        print(\"this is function 2\")\n",
    "\n",
    "class b(a):                               #class b is inheriting a\n",
    "    def fun3(self):\n",
    "        print(\"this is function 3\")\n",
    "    def fun4(self):\n",
    "        print(\"this is function 4\")\n",
    "\n",
    "if __name__==\"__main__\":\n",
    "    ob1=a()\n",
    "    ob2=b()\n",
    "\n",
    "    ob1.fun1()\n",
    "    ob1.fun2()\n",
    "    ob2.fun3()\n",
    "    ob2.fun4()\n",
    "    ob2.fun1()          #because of inheritance"
   ]
  },
  {
   "cell_type": "code",
   "execution_count": 4,
   "id": "2ffb2346-c117-412c-9e89-e53564d714d6",
   "metadata": {},
   "outputs": [
    {
     "name": "stdout",
     "output_type": "stream",
     "text": [
      "this is function 1\n",
      "this is function 1\n",
      "this is function 3\n"
     ]
    }
   ],
   "source": [
    "#multilevel inheritance\n",
    "\n",
    "class a:\n",
    "    def fun1(self):\n",
    "        print(\"this is function 1\")\n",
    "    def fun2(self):\n",
    "        print(\"this is function 2\")\n",
    "\n",
    "class b(a):                               #class b is inheriting a\n",
    "    def fun3(self):\n",
    "        print(\"this is function 3\")\n",
    "    def fun4(self):\n",
    "        print(\"this is function 4\")\n",
    "\n",
    "class c(b):                               #class c is inheriting b \n",
    "    def fun5(self):\n",
    "        print(\"this is function 5\")\n",
    "    def fun6(self):\n",
    "        print(\"this is function 6\")\n",
    "\n",
    "if __name__==\"__main__\":\n",
    "    ob1=a()\n",
    "    ob2=b()\n",
    "    ob3=c()\n",
    "\n",
    "    ob2.fun1()\n",
    "    ob3.fun1()\n",
    "    ob3.fun3()"
   ]
  },
  {
   "cell_type": "code",
   "execution_count": 5,
   "id": "35abff52-58c3-49fa-939b-98450d121a82",
   "metadata": {},
   "outputs": [
    {
     "name": "stdout",
     "output_type": "stream",
     "text": [
      "this is function 1\n",
      "this is function 1\n"
     ]
    }
   ],
   "source": [
    "#hierarchy\n",
    "\n",
    "class a:\n",
    "    def fun1(self):\n",
    "        print(\"this is function 1\")\n",
    "    def fun2(self):\n",
    "        print(\"this is function 2\")\n",
    "\n",
    "class b(a):                               #class b is inheriting a\n",
    "    def fun3(self):\n",
    "        print(\"this is function 3\")\n",
    "    def fun4(self):\n",
    "        print(\"this is function 4\")\n",
    "\n",
    "class c(a):                               #class c is inheriting a\n",
    "    def fun5(self):\n",
    "        print(\"this is function 5\")\n",
    "    def fun6(self):\n",
    "        print(\"this is function 6\")\n",
    "\n",
    "if __name__==\"__main__\":\n",
    "    ob1=a()\n",
    "    ob2=b()\n",
    "    ob3=c()\n",
    "\n",
    "    ob2.fun1()\n",
    "    ob3.fun1()"
   ]
  },
  {
   "cell_type": "code",
   "execution_count": 9,
   "id": "79abe0e7-a54f-4b1b-8fe7-77af07cc667a",
   "metadata": {},
   "outputs": [
    {
     "name": "stdout",
     "output_type": "stream",
     "text": [
      "constructor of a\n"
     ]
    }
   ],
   "source": [
    "#using constructors\n",
    "\n",
    "class a:\n",
    "    def __init__(self):\n",
    "        print(\"constructor of a\")\n",
    "\n",
    "class b(a):\n",
    "    pass\n",
    "    #def __init__(self):\n",
    "        #print(\"constructor of b\")\n",
    "\n",
    "class c:\n",
    "    def __init__(self):\n",
    "        print(\"constructor of c\")\n",
    "\n",
    "class d:\n",
    "    def __init__(self):\n",
    "        print(\"constructor of d\")\n",
    "\n",
    "if __name__==\"__main__\":\n",
    "    ob1=b()"
   ]
  },
  {
   "cell_type": "markdown",
   "id": "88799641-802f-4174-a8f8-dbabc4f59003",
   "metadata": {},
   "source": [
    "Q3.CREATE a laptop class prosessor,ram,storage\n",
    "n 2 more laptop:1.professional-->battery backup 2.gaming-->graphic card"
   ]
  },
  {
   "cell_type": "code",
   "execution_count": 26,
   "id": "088894d8-4e7a-4b53-92cf-d84edbf32157",
   "metadata": {},
   "outputs": [
    {
     "name": "stdout",
     "output_type": "stream",
     "text": [
      "professional laptop having: 8 512 7hrs i5\n",
      "gaming laptop having: 8 512 3d i5\n"
     ]
    }
   ],
   "source": [
    "class laptop:\n",
    "    def __init__(self,p,r,s):             #creating variables\n",
    "        self.processor=p\n",
    "        self.RAM=r\n",
    "        self.storage=s\n",
    "\n",
    "    \n",
    "\n",
    "class plaptop(laptop):\n",
    "    def __init__(self,b,p,r,s):\n",
    "        self.Battery=b\n",
    "        super().__init__(p,r,s)\n",
    "        #self.super(p,r,s)\n",
    "\n",
    "\n",
    "\n",
    "class glaptop(laptop):\n",
    "    def __init__(self,g,p,r,s):\n",
    "        self.graphic_card=g\n",
    "        super().__init__(p,r,s)\n",
    "        #self.super(p,r,s)\n",
    "\n",
    "    \n",
    "\n",
    "pro=plaptop(\"i5\",8,512,\"7hrs\")\n",
    "game=glaptop(\"i5\",8,512,\"3d\")\n",
    "\n",
    "print(\"professional laptop having:\",pro.processor,pro.RAM,pro.storage,pro.Battery)\n",
    "print(\"gaming laptop having:\",game.processor,game.RAM,game.storage,game.graphic_card)\n",
    "#if __name__==\"__main__\":\n",
    "    "
   ]
  },
  {
   "cell_type": "markdown",
   "id": "a4b5b479-dafe-412f-bcd1-cfe5ab5bc82c",
   "metadata": {},
   "source": [
    "Q5. Write a Program to demonstrate the working of a railway ticket booking.\n",
    "Create required classes like\n",
    "ticket class | general ticket | sleeper ticket | AC ticket | first class ticket.\n",
    "show the uses of inheritance in this and create a proper ticket booking model for Indian railway.\n",
    "After booking the ticket you have to Show the Final Ticket price to the customer.\n",
    "consider only 3 Source and destination as\n",
    "A 500kms | B 600kms | C 400kms\n",
    "Booking charges: 50     | Distance Charges: 2/km |\n",
    "Sleeper Charges: 2/km | AC charges: 4/km | first class charges: 5/km"
   ]
  },
  {
   "cell_type": "code",
   "execution_count": 31,
   "id": "361de932-9e82-4a9d-8a2d-4c0838fcd11c",
   "metadata": {},
   "outputs": [
    {
     "name": "stdout",
     "output_type": "stream",
     "text": [
      "ticket cost: 4850\n"
     ]
    }
   ],
   "source": [
    "class ticket:\n",
    "    def __init__(self,d,):\n",
    "        self.dis_charge=int(d)\n",
    "        self.price=None\n",
    "\n",
    "class general(ticket):\n",
    "    def __init__(self,d):\n",
    "        super().__init__(d)\n",
    "\n",
    "    def cal(self):\n",
    "        self.price=50+(self.dis_charge*2)\n",
    "        return self.price\n",
    "\n",
    "\n",
    "class sleeper(general):\n",
    "    def __init__(self,d):\n",
    "        super().__init__(d)\n",
    "        \n",
    "    def cal(self):\n",
    "        self.price=super().cal()+(2*self.dis_charge)\n",
    "        return self.price\n",
    "\n",
    "\n",
    "class ac(sleeper):\n",
    "    def __init__(self,d):\n",
    "        super().__init__(d)\n",
    "\n",
    "    def cal(self):\n",
    "        self.price=super().cal()+(4*self.dis_charge)\n",
    "        return self.price\n",
    "\n",
    "\n",
    "\n",
    "class first_class(ac):\n",
    "    def __init__(self,d):\n",
    "        super().__init__(self,d)\n",
    "\n",
    "    def cal(self):\n",
    "        self.price=super().cal()+(5*self.dis_charge)\n",
    "        return self.price\n",
    "\n",
    "\n",
    "a=ac(600)\n",
    "print(\"ticket cost:\",a.cal())\n",
    "\n",
    "\n",
    "    \n",
    "    "
   ]
  },
  {
   "cell_type": "code",
   "execution_count": 1,
   "id": "26e9195d-5b2c-4efb-8506-7083c8d3e754",
   "metadata": {},
   "outputs": [
    {
     "name": "stdin",
     "output_type": "stream",
     "text": [
      "enter the distance (500/600/400) 500\n"
     ]
    },
    {
     "name": "stdout",
     "output_type": "stream",
     "text": [
      "\n",
      "1.general\n",
      "2.sleeper\n",
      "3.AC\n",
      "4.first class\n",
      "\n"
     ]
    },
    {
     "name": "stdin",
     "output_type": "stream",
     "text": [
      "enter your choice\n",
      " 3\n"
     ]
    },
    {
     "name": "stdout",
     "output_type": "stream",
     "text": [
      "you have choosen general ticket\n",
      "ticket booked\n"
     ]
    }
   ],
   "source": [
    "class ticket:\n",
    "    def __init__(self,p):\n",
    "        self.price=p\n",
    "    #def price(self):\n",
    "        #print(\"the total price of ticket=\",self.price)\n",
    "\n",
    "class general(ticket):\n",
    "    def __init__(self,p):\n",
    "        super().__init__(p)\n",
    "    def price(self):\n",
    "        print(\"the total price of ticket=\",self.price)\n",
    "\n",
    "\n",
    "\n",
    "class sleeper(ticket):\n",
    "    def __init__(self,p):\n",
    "        super().__init__(p)\n",
    "    def price(self):\n",
    "        print(\"the total price of ticket=\",self.price)\n",
    "\n",
    "class ac(ticket):\n",
    "    def __init__(self,p):\n",
    "        super().__init__(p)\n",
    "    def price(self):\n",
    "        print(\"the total price of ticket=\",self.price)\n",
    "\n",
    "class fc(ticket):\n",
    "    def __init__(self,p):\n",
    "        super().__init__(p)\n",
    "    def price(self):\n",
    "        print(\"the total price of ticket=\",self.price)\n",
    "\n",
    "dis=int(input(\"enter the distance (500/600/400)\"))\n",
    "print(\"\\n1.general\\n2.sleeper\\n3.AC\\n4.first class\\n\")\n",
    "ch=int(input(\"enter your choice\\n\"))\n",
    "\n",
    "match ch:\n",
    "    case 1: \n",
    "        print(\"you have choosen general ticket\")\n",
    "        pc=50+(2*dis)\n",
    "        print(\"ticket booked\")\n",
    "    case 2: \n",
    "        print(\"you have choosen general ticket\")\n",
    "        pc=50+(3*dis)\n",
    "        print(\"ticket booked\")\n",
    "    case 3: \n",
    "        print(\"you have choosen general ticket\")\n",
    "        pc=50+(4*dis)\n",
    "        print(\"ticket booked\")\n",
    "    case 4: \n",
    "        print(\"you have choosen general ticket\")\n",
    "        pc=50+(5*dis)\n",
    "        print(\"ticket booked\")"
   ]
  },
  {
   "cell_type": "code",
   "execution_count": 11,
   "id": "847297cc-424c-46a6-b297-b0af1c899f58",
   "metadata": {},
   "outputs": [
    {
     "name": "stdin",
     "output_type": "stream",
     "text": [
      "Enter source station (A/B/C):  a\n",
      "Enter destination station (A/B/C):  a\n",
      "Select ticket type (General/Sleeper/AC/First Class):  general\n"
     ]
    },
    {
     "name": "stdout",
     "output_type": "stream",
     "text": [
      "Final ticket price: $50.00\n"
     ]
    }
   ],
   "source": [
    "class Ticket:\n",
    "    def __init__(self, source, destination):\n",
    "        self.source = source\n",
    "        self.destination = destination\n",
    "\n",
    "    def calculate_distance(self):\n",
    "        # Distance between source and destination stations\n",
    "        distances = {'A': 500, 'B': 600, 'C': 400}\n",
    "        return distances.get(self.destination, 0) - distances.get(self.source, 0)\n",
    "\n",
    "    def calculate_booking_charges(self):\n",
    "        return 50\n",
    "\n",
    "    def calculate_distance_charges(self):\n",
    "        distance = self.calculate_distance()\n",
    "        return 2 * distance\n",
    "\n",
    "    def calculate_final_price(self):\n",
    "        total_price = self.calculate_booking_charges() + self.calculate_distance_charges()\n",
    "        return total_price\n",
    "\n",
    "\n",
    "class GeneralTicket(Ticket):\n",
    "    pass\n",
    "\n",
    "\n",
    "class SleeperTicket(Ticket):\n",
    "    def calculate_distance_charges(self):\n",
    "        distance = self.calculate_distance()\n",
    "        return 2 * distance + 2 * distance  # Additional sleeper charges\n",
    "\n",
    "\n",
    "class ACTicket(Ticket):\n",
    "    def calculate_distance_charges(self):\n",
    "        distance = self.calculate_distance()\n",
    "        return 4 * distance  # AC charges\n",
    "\n",
    "\n",
    "class FirstClassTicket(Ticket):\n",
    "    def calculate_distance_charges(self):\n",
    "        distance = self.calculate_distance()\n",
    "        return 5 * distance  # First class charges\n",
    "\n",
    "\n",
    "def main():\n",
    "    source_station = input(\"Enter source station (A/B/C): \").upper()\n",
    "    destination_station = input(\"Enter destination station (A/B/C): \").upper()\n",
    "\n",
    "    ticket_type = input(\"Select ticket type (General/Sleeper/AC/First Class): \").lower()\n",
    "\n",
    "    if ticket_type == \"general\":\n",
    "        ticket = GeneralTicket(source_station, destination_station)\n",
    "    elif ticket_type == \"sleeper\":\n",
    "        ticket = SleeperTicket(source_station, destination_station)\n",
    "    elif ticket_type == \"ac\":\n",
    "        ticket = ACTicket(source_station, destination_station)\n",
    "    elif ticket_type == \"first class\":\n",
    "        ticket = FirstClassTicket(source_station, destination_station)\n",
    "    else:\n",
    "        print(\"Invalid ticket type. Please choose from General, Sleeper, AC, or First Class.\")\n",
    "        return\n",
    "\n",
    "    final_price = ticket.calculate_final_price()\n",
    "    print(f\"Final ticket price: ${final_price:.2f}\")\n",
    "\n",
    "\n",
    "if __name__ == \"__main__\":\n",
    "    main()"
   ]
  },
  {
   "cell_type": "code",
   "execution_count": null,
   "id": "5d5e9ed1-79d2-4c27-863c-336d13dabc1d",
   "metadata": {},
   "outputs": [],
   "source": []
  }
 ],
 "metadata": {
  "kernelspec": {
   "display_name": "Python 3 (ipykernel)",
   "language": "python",
   "name": "python3"
  },
  "language_info": {
   "codemirror_mode": {
    "name": "ipython",
    "version": 3
   },
   "file_extension": ".py",
   "mimetype": "text/x-python",
   "name": "python",
   "nbconvert_exporter": "python",
   "pygments_lexer": "ipython3",
   "version": "3.12.3"
  },
  "widgets": {
   "application/vnd.jupyter.widget-state+json": {
    "state": {},
    "version_major": 2,
    "version_minor": 0
   }
  }
 },
 "nbformat": 4,
 "nbformat_minor": 5
}

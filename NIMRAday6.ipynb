{
 "cells": [
  {
   "cell_type": "code",
   "execution_count": 5,
   "id": "533567e0-8e75-4707-8458-581ff3ac96bd",
   "metadata": {},
   "outputs": [
    {
     "name": "stdout",
     "output_type": "stream",
     "text": [
      "car contains:-\n",
      "engine: 1000cc \n",
      "reg plate: 118 \n",
      "price: 5000000 \n",
      "color: black \n",
      "type: EV \n",
      "no. of passengers: 5 \n",
      "speed: 200\n",
      "\n",
      "truck contains:-\n",
      "engine: 1500cc \n",
      "reg plate: 117 \n",
      "price: 5500000 \n",
      "color: blue \n",
      "axle: 4 \n",
      "load: 200KG\n"
     ]
    }
   ],
   "source": [
    "class vehicle:\n",
    "    def __init__(self,e,r,p,c):\n",
    "        self.engine=e\n",
    "        self.reg_plate=r\n",
    "        self.price=p\n",
    "        self.color=c\n",
    "\n",
    "class car(vehicle):\n",
    "    def __init__(self,e,r,p,c,t,n,s):\n",
    "        self.type=t\n",
    "        self.passenger=n\n",
    "        self.speed=s\n",
    "        super().__init__(e,r,p,c)\n",
    "\n",
    "class truck(vehicle):\n",
    "    def __init__(self,e,r,p,c,a,l):\n",
    "        self.axle=a\n",
    "        self.load=l\n",
    "        super().__init__(e,r,p,c)\n",
    "\n",
    "c=car(\"1000cc\",118,5000000,\"black\",\"EV\",5,200)\n",
    "t=truck(\"1500cc\",117,5500000,\"blue\",4,\"200KG\")\n",
    "\n",
    "print(\"car contains:-\")\n",
    "print(\"engine:\",c.engine,\"\\nreg plate:\",c.reg_plate,\"\\nprice:\",c.price,\"\\ncolor:\",c.color,\"\\ntype:\",c.type,\"\\nno. of passengers:\",c.passenger,\"\\nspeed:\",c.speed)\n",
    "print(\"\\ntruck contains:-\")\n",
    "print(\"engine:\",t.engine,\"\\nreg plate:\",t.reg_plate,\"\\nprice:\",t.price,\"\\ncolor:\",t.color,\"\\naxle:\",t.axle,\"\\nload:\",t.load)"
   ]
  },
  {
   "cell_type": "code",
   "execution_count": 10,
   "id": "bb98fc6e-dc73-4561-b122-290b20338835",
   "metadata": {},
   "outputs": [
    {
     "name": "stdout",
     "output_type": "stream",
     "text": [
      "staff have:\n",
      "ID: 18 \n",
      "name: adi \n",
      "salary 20000 \n",
      "type: full-time \n",
      "area: MG nagar\n"
     ]
    }
   ],
   "source": [
    "class employee:\n",
    "    def __init__(self,i,n,s):\n",
    "        self.id=i\n",
    "        self.name=n\n",
    "        self.salary=s\n",
    "\n",
    "class staff(employee):\n",
    "    def __init__(self,i,n,s,t,a):\n",
    "        self.type=t\n",
    "        self.area=a\n",
    "        super().__init__(i,n,s)\n",
    "\n",
    "class developer(employee):\n",
    "    def __init__(self,i,n,s,m,tq,ex):\n",
    "        self.module=m\n",
    "        self.tech=tq\n",
    "        self.exp=ex\n",
    "        super().__init__(i,n,s)\n",
    "\n",
    "class manager(employee):\n",
    "    def __init__(self,i,n,s,p,c):\n",
    "        self.project=p\n",
    "        self.client=c\n",
    "        super().__init__(i,n,s)\n",
    "\n",
    "s=staff(18,\"adi\",20000,\"full-time\",\"MG nagar\")\n",
    "d=developer(17,\"rak\",25000,5,\"AI\",\"5yrs\")\n",
    "m=manager(17,\"vin\",30000,\"python\",\"nik\")\n",
    "\n",
    "print(\"staff have:\")\n",
    "print(\"ID:\",s.id,\"\\nname:\",s.name,\"\\nsalary\",s.salary,\"\\ntype:\",s.type,\"\\narea:\",s.area)"
   ]
  },
  {
   "cell_type": "code",
   "execution_count": null,
   "id": "c12273f0-8cdb-4fb2-bec7-b2d6675069a8",
   "metadata": {},
   "outputs": [],
   "source": [
    "#patter programs"
   ]
  },
  {
   "cell_type": "code",
   "execution_count": 17,
   "id": "fd147a06-f40a-4248-93b1-57790add3aed",
   "metadata": {},
   "outputs": [
    {
     "name": "stdout",
     "output_type": "stream",
     "text": [
      "1 \n",
      "1 2 \n",
      "1 2 3 \n",
      "1 2 3 4 \n",
      "1 2 3 4 5 \n"
     ]
    }
   ],
   "source": [
    "#1\n",
    "\n",
    "n = 5\n",
    "\n",
    "for i in range(1, n+1):\n",
    "    for j in range(1, i + 1):\n",
    "        print(j, end=\" \")\n",
    "\n",
    "    print(\"\")"
   ]
  },
  {
   "cell_type": "code",
   "execution_count": 18,
   "id": "99cdfcbc-1f39-448b-abf4-affd44ee582c",
   "metadata": {},
   "outputs": [
    {
     "name": "stdout",
     "output_type": "stream",
     "text": [
      "1 \n",
      "2 2 \n",
      "3 3 3 \n",
      "4 4 4 4 \n",
      "5 5 5 5 5 \n"
     ]
    }
   ],
   "source": [
    "#2\n",
    "\n",
    "n = 5\n",
    "\n",
    "for i in range(1, n+1):\n",
    "    for j in range(1, i + 1):\n",
    "        print(i, end=\" \")\n",
    "\n",
    "    print(\"\")"
   ]
  },
  {
   "cell_type": "code",
   "execution_count": 19,
   "id": "dfe74cfb-f24f-4a46-b885-9cd41b08d07b",
   "metadata": {},
   "outputs": [
    {
     "name": "stdout",
     "output_type": "stream",
     "text": [
      "* \n",
      "* * \n",
      "* * * \n",
      "* * * * \n",
      "* * * * * \n"
     ]
    }
   ],
   "source": [
    "#3\n",
    "\n",
    "n = 5\n",
    "\n",
    "for i in range(1, n+1):\n",
    "    for j in range(1, i + 1):\n",
    "        print(\"*\", end=\" \")\n",
    "\n",
    "    print(\"\")"
   ]
  },
  {
   "cell_type": "code",
   "execution_count": 24,
   "id": "6bbb3084-31d9-446b-86bf-23354ea24eea",
   "metadata": {},
   "outputs": [
    {
     "name": "stdout",
     "output_type": "stream",
     "text": [
      "1 2 3 4 5 \n",
      "1 2 3 4 \n",
      "1 2 3 \n",
      "1 2 \n",
      "1 \n",
      "\n"
     ]
    }
   ],
   "source": [
    "#4\n",
    "\n",
    "n = 5\n",
    "\n",
    "for k in range(n+1, 0, -1):\n",
    "\n",
    "    for m in range(1, k):\n",
    "\n",
    "        print(m, end=' ')\n",
    "\n",
    "    print(\"\\r\")"
   ]
  },
  {
   "cell_type": "code",
   "execution_count": 25,
   "id": "35835ce7-45a0-4368-aa2d-44d5087dcc08",
   "metadata": {},
   "outputs": [
    {
     "name": "stdout",
     "output_type": "stream",
     "text": [
      "* * * * * \n",
      "* * * * \n",
      "* * * \n",
      "* * \n",
      "* \n",
      "\n"
     ]
    }
   ],
   "source": [
    "#5\n",
    "\n",
    "n = 5\n",
    "\n",
    "for k in range(n+1, 0, -1):\n",
    "\n",
    "    for m in range(1, k):\n",
    "\n",
    "        print(\"*\", end=' ')\n",
    "\n",
    "    print(\"\\r\")"
   ]
  },
  {
   "cell_type": "code",
   "execution_count": 29,
   "id": "9d601f75-64cf-44bd-a719-038f66356f54",
   "metadata": {},
   "outputs": [
    {
     "name": "stdout",
     "output_type": "stream",
     "text": [
      "6 6 6 6 6 \n",
      "5 5 5 5 \n",
      "4 4 4 \n",
      "3 3 \n",
      "2 \n",
      "\n"
     ]
    }
   ],
   "source": [
    "#6\n",
    "\n",
    "n = 5\n",
    "\n",
    "for k in range(n+1, 0, -1):\n",
    "\n",
    "    for m in range(1, k):\n",
    "\n",
    "        print(k, end=' ')\n",
    "\n",
    "    print(\"\\r\")"
   ]
  },
  {
   "cell_type": "code",
   "execution_count": null,
   "id": "7df0c06f-180a-4dba-9d0d-2ed4e5bd1eff",
   "metadata": {},
   "outputs": [],
   "source": [
    "class Solution:\n",
    "    def reverse(self, x: int) -> int:\n",
    "        if x>=0:\n",
    "            rev=int(str(x)[::-1])\n",
    "        else:\n",
    "            rev=-(int(str(abs(x))[::-1]))\n",
    "        if(rev<=-2**31 or rev>=2**31-1):\n",
    "            return 0\n",
    "        else:\n",
    "            return rev\n",
    "\n",
    "ob=solution(123)\n",
    "\n",
    "        "
   ]
  },
  {
   "cell_type": "code",
   "execution_count": null,
   "id": "fd61c297-9a44-43c9-be5b-bb82a5b8df8b",
   "metadata": {},
   "outputs": [],
   "source": []
  }
 ],
 "metadata": {
  "kernelspec": {
   "display_name": "Python 3 (ipykernel)",
   "language": "python",
   "name": "python3"
  },
  "language_info": {
   "codemirror_mode": {
    "name": "ipython",
    "version": 3
   },
   "file_extension": ".py",
   "mimetype": "text/x-python",
   "name": "python",
   "nbconvert_exporter": "python",
   "pygments_lexer": "ipython3",
   "version": "3.12.3"
  },
  "widgets": {
   "application/vnd.jupyter.widget-state+json": {
    "state": {},
    "version_major": 2,
    "version_minor": 0
   }
  }
 },
 "nbformat": 4,
 "nbformat_minor": 5
}

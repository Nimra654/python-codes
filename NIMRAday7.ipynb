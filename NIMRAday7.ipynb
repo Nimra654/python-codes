{
 "cells": [
  {
   "cell_type": "code",
   "execution_count": 1,
   "id": "a63b67a0-c70d-435c-9914-0b2ea98286a9",
   "metadata": {},
   "outputs": [],
   "source": [
    "#day 7"
   ]
  },
  {
   "cell_type": "code",
   "execution_count": 14,
   "id": "8a7e70cc-804b-4afb-bc71-8f6f6d9da129",
   "metadata": {},
   "outputs": [
    {
     "name": "stdout",
     "output_type": "stream",
     "text": [
      "maximum sum of any 3 consecutive elements of this list are 19\n"
     ]
    }
   ],
   "source": [
    "#find the maximum sum of any 3 consecutive elements of this list in python\n",
    "l=[2,4,6,1,3,7,4,6,9,3,6,8,3,6,4,1,3,9,6,4,5,6,8,3,7,3,6,8]\n",
    "sum=0\n",
    "\n",
    "m=0\n",
    "for i in range(0,len(l)-2):\n",
    "    sum=(l[i]+l[i+1]+l[i+2])\n",
    "    m=max(m,sum)\n",
    "print(\"maximum sum of any 3 consecutive elements of this list are\",m)\n",
    "    \n",
    "    "
   ]
  },
  {
   "cell_type": "code",
   "execution_count": 21,
   "id": "2b426ef2-fee4-4e61-86cf-f96a65afbb68",
   "metadata": {},
   "outputs": [
    {
     "name": "stdin",
     "output_type": "stream",
     "text": [
      "enter the consecutive value : 3\n"
     ]
    },
    {
     "name": "stdout",
     "output_type": "stream",
     "text": [
      "20\n"
     ]
    }
   ],
   "source": [
    "#using 2 loops\n",
    "\n",
    "L=[2,4,6,1,3,7,4,6,9,3,8,3,6,4,1,3,9,6]\n",
    "i=int(input(\"enter the consecutive value :\"))\n",
    "max=0\n",
    "for x in range(0,len(L)-i):\n",
    "    sum=0\n",
    "    for y in range(0,i):\n",
    "        sum=sum+L[x+y]\n",
    "    if(max<sum):\n",
    "      max=sum  \n",
    "\n",
    "print(max)"
   ]
  },
  {
   "cell_type": "code",
   "execution_count": 22,
   "id": "bb42677f-e86e-4532-8769-5b68990a7845",
   "metadata": {},
   "outputs": [
    {
     "name": "stdin",
     "output_type": "stream",
     "text": [
      "enter the consecutive value : 3\n"
     ]
    },
    {
     "name": "stdout",
     "output_type": "stream",
     "text": [
      "20\n"
     ]
    }
   ],
   "source": [
    "#time complexicity\n",
    "\n",
    "L=[2,4,6,1,3,7,4,6,9,3,8,3,6,4,1,3,9,6]\n",
    "i=int(input(\"enter the consecutive value :\"))\n",
    "max=0\n",
    "for x in range(0,len(L)-i):\n",
    "    sum=0\n",
    "    for y in range(0,i):\n",
    "        sum=sum+L[x+y]\n",
    "    if(max<sum):\n",
    "      max=sum  \n",
    "\n",
    "print(max)"
   ]
  },
  {
   "cell_type": "code",
   "execution_count": 38,
   "id": "685a798c-afc6-4c40-a420-b975ab5c5d81",
   "metadata": {},
   "outputs": [
    {
     "name": "stdout",
     "output_type": "stream",
     "text": [
      "[1, 2, 3, 4, 5, 6, 7, 8, 9]\n",
      "[9, 8, 7, 6, 5, 4, 3, 2, 1]\n",
      " the bubble Sorted array:\n",
      " [1, 2, 3, 4, 5, 6, 7, 8, 9]\n"
     ]
    }
   ],
   "source": [
    "l=[3,5,2,6,7,4,8,1,9]\n",
    "#sorting\n",
    "l.sort()\n",
    "print (l)\n",
    "\n",
    "#reversing\n",
    "l.reverse()\n",
    "print(l)\n",
    "\n",
    "#bubble sort\n",
    "l=[3,5,2,6,7,4,8,1,9]\n",
    "arr=len(l)\n",
    "for i in range(arr):\n",
    "    for j in range (0,arr-i-1):\n",
    "        if l[j] > l[j+1]:\n",
    "                l[j], l[j+1] = l[j+1], l[j]\n",
    "\n",
    "\n",
    "print(\" the bubble Sorted array:\\n\",l)"
   ]
  },
  {
   "cell_type": "code",
   "execution_count": 45,
   "id": "8068e0b7-617c-4019-9aa2-49ab429f5d11",
   "metadata": {},
   "outputs": [
    {
     "name": "stdout",
     "output_type": "stream",
     "text": [
      "{0, 3, 4, 5, 7, 8, 9}\n",
      "None\n"
     ]
    }
   ],
   "source": [
    "nums=[3,5,7,8,7,9,0,4,5,3]\n",
    "nums=set(nums)\n",
    "print(nums)\n",
    "print(nums.clear())"
   ]
  },
  {
   "cell_type": "code",
   "execution_count": 44,
   "id": "f2da2ea6-6878-4479-817a-7a7b1b2388f1",
   "metadata": {},
   "outputs": [
    {
     "name": "stdout",
     "output_type": "stream",
     "text": [
      "7\n"
     ]
    }
   ],
   "source": [
    "nums=[3,5,7,8,7,9,0,4,5,3]\n",
    "s=set(nums)\n",
    "nums.clear()\n",
    "for i in s:\n",
    "    nums.append(i)\n",
    "nums.sort()\n",
    "print(len(nums))"
   ]
  },
  {
   "cell_type": "code",
   "execution_count": 3,
   "id": "e1594079-8b90-4e97-af18-55d29cb77423",
   "metadata": {},
   "outputs": [
    {
     "name": "stdout",
     "output_type": "stream",
     "text": [
      "sorted elements:\n",
      "1 2 3 4 5 6 7 9 "
     ]
    }
   ],
   "source": [
    "#insertion sort \n",
    "\n",
    "arr=[2,4,1,7,3,9,6,5]\n",
    "\n",
    "n=len(arr)\n",
    "for i in range(0,n):\n",
    "    temp=arr[i]\n",
    "    j = i - 1\n",
    "    while j >= 0 and temp < arr[j]:\n",
    "        arr[j + 1] = arr[j]\n",
    "        j -= 1\n",
    "    arr[j + 1] = temp\n",
    "print(\"sorted elements:\")\n",
    "for i in arr:\n",
    "    print(i,end=\" \")"
   ]
  },
  {
   "cell_type": "code",
   "execution_count": null,
   "id": "d1685141-d6e0-4535-bc9c-daa6bbd288ee",
   "metadata": {},
   "outputs": [],
   "source": []
  }
 ],
 "metadata": {
  "kernelspec": {
   "display_name": "Python 3 (ipykernel)",
   "language": "python",
   "name": "python3"
  },
  "language_info": {
   "codemirror_mode": {
    "name": "ipython",
    "version": 3
   },
   "file_extension": ".py",
   "mimetype": "text/x-python",
   "name": "python",
   "nbconvert_exporter": "python",
   "pygments_lexer": "ipython3",
   "version": "3.12.3"
  },
  "widgets": {
   "application/vnd.jupyter.widget-state+json": {
    "state": {},
    "version_major": 2,
    "version_minor": 0
   }
  }
 },
 "nbformat": 4,
 "nbformat_minor": 5
}

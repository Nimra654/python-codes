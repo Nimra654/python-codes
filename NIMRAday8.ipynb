{
 "cells": [
  {
   "cell_type": "code",
   "execution_count": 8,
   "id": "4d7f8bee-dd5b-40a2-a317-04edbe677c2b",
   "metadata": {},
   "outputs": [
    {
     "name": "stdout",
     "output_type": "stream",
     "text": [
      " the bubble Sorted array:\n",
      " [1, 2, 3, 4, 5, 6, 7, 8, 9, 12]\n"
     ]
    }
   ],
   "source": [
    "#bubble sort\n",
    "\n",
    "l=[3,4,5,2,6,12,7,8,1,9]\n",
    "arr=len(l)\n",
    "for i in range(arr):\n",
    "    for j in range (0,arr-i-1):\n",
    "        if l[j] > l[j+1]:\n",
    "                l[j], l[j+1] = l[j+1], l[j]\n",
    "        \n",
    "print(\" the bubble Sorted array:\\n\",l)"
   ]
  },
  {
   "cell_type": "code",
   "execution_count": 12,
   "id": "34322098-31d8-481c-8ce4-2682fb3dcbc0",
   "metadata": {},
   "outputs": [
    {
     "name": "stdout",
     "output_type": "stream",
     "text": [
      "insertion sorted elements:\n",
      "1 2 3 4 5 6 7 9 "
     ]
    }
   ],
   "source": [
    "#insertion sort \n",
    "\n",
    "arr=[2,4,1,7,3,9,6,5]\n",
    "\n",
    "n=len(arr)\n",
    "for i in range(0,n):\n",
    "    temp=arr[i]\n",
    "    j = i - 1\n",
    "    while j >= 0 and temp < arr[j]:\n",
    "        arr[j + 1] = arr[j]\n",
    "        j -= 1\n",
    "    arr[j + 1] = temp\n",
    "print(\"insertion sorted elements:\")\n",
    "for i in arr:\n",
    "    print(i,end=\" \")"
   ]
  },
  {
   "cell_type": "code",
   "execution_count": 13,
   "id": "af86ee97-c8c0-421e-9c8b-77f39a3a91ff",
   "metadata": {},
   "outputs": [
    {
     "name": "stdout",
     "output_type": "stream",
     "text": [
      "the selected sorted elements are:\n",
      "[1, 2, 3, 4, 5, 6, 7, 9]\n"
     ]
    }
   ],
   "source": [
    "#selection sort\n",
    "\n",
    "arr=[2,4,1,7,3,9,6,5]\n",
    "n=len(arr)\n",
    "for i in range(0,n):\n",
    "    min_idx=i\n",
    "    for j in range(i+1,n):\n",
    "        if arr[min_idx]>arr[j]:\n",
    "            min_idx=j\n",
    "    temp=arr[i]\n",
    "    arr[i]=arr[min_idx]\n",
    "    arr[min_idx]=temp\n",
    "print(\"the selected sorted elements are:\")\n",
    "print(arr)"
   ]
  },
  {
   "cell_type": "code",
   "execution_count": 4,
   "id": "d1201750-c481-4afe-9cf3-3f81198196a7",
   "metadata": {},
   "outputs": [
    {
     "name": "stdin",
     "output_type": "stream",
     "text": [
      " 4\n"
     ]
    },
    {
     "name": "stdout",
     "output_type": "stream",
     "text": [
      "item not in list\n",
      "low: 0 high 11 mid 5\n",
      "low: 0 high 4 mid 2\n",
      "low: 0 high 1 mid 0\n",
      "element not found\n"
     ]
    }
   ],
   "source": [
    "#binary search\n",
    "\n",
    "l=[23,45,66,98,102,3,55,67,82,93,1]\n",
    "l.sort()\n",
    "#print(l)\n",
    "low=0\n",
    "high=len(l)\n",
    "src=int(input())\n",
    "try:\n",
    "    print(\"index of element is\",l.index(src))\n",
    "except:\n",
    "    print(\"item not in list\")\n",
    "flag=0\n",
    "while low<high:\n",
    "    mid=int((low+high)/2)\n",
    "    print(\"low:\",low,\"high\",high,\"mid\",mid)\n",
    "    if src<l[mid]:\n",
    "        high=mid-1\n",
    "    elif src>l[mid]:\n",
    "        low=mid+1\n",
    "    else:\n",
    "        flag=1\n",
    "        break;\n",
    "\n",
    "if flag==1:\n",
    "    print(\"element found:\",mid)\n",
    "else:\n",
    "    print(\"element not found\")"
   ]
  },
  {
   "cell_type": "code",
   "execution_count": 4,
   "id": "5e77135a-3b47-4e72-97fc-7247f9e4490e",
   "metadata": {},
   "outputs": [
    {
     "name": "stdin",
     "output_type": "stream",
     "text": [
      " (nim\n"
     ]
    },
    {
     "name": "stdout",
     "output_type": "stream",
     "text": [
      "invalid string\n"
     ]
    }
   ],
   "source": [
    "s=input()\n",
    "x=y=z=0\n",
    "for c in s:\n",
    "    match (c):\n",
    "        case '(':x+=1\n",
    "        case ')':x-=1\n",
    "        case '{':y+=1\n",
    "        case '}':y-=1\n",
    "        case '[':z+=1\n",
    "        case ']':z-=1\n",
    "        case _:continue\n",
    "if x+y+z==0:\n",
    "    print(\"valid string\")\n",
    "else:\n",
    "    print(\"invalid string\")"
   ]
  },
  {
   "cell_type": "code",
   "execution_count": 1,
   "id": "34c7c118-4115-4951-b03b-7ac1f8e4a98f",
   "metadata": {},
   "outputs": [
    {
     "name": "stdout",
     "output_type": "stream",
     "text": [
      "item added to the stack 4\n",
      "item added to the stack 1\n",
      "item added to the stack 2\n",
      "item added to the stack 3\n",
      "[4, 1, 2, 3]\n",
      "item deleted from the list 3\n",
      "[4, 1, 2]\n"
     ]
    }
   ],
   "source": [
    "#stack operations\n",
    "\n",
    "class stack:\n",
    "    def __init__(self):\n",
    "        self.item=[]\n",
    "    def push(self,x):\n",
    "        self.item.append(x)\n",
    "        print(\"item added to the stack\",x)\n",
    "    def pop(self):\n",
    "        items=self.item.pop()\n",
    "        print(\"item deleted from the list\",items)\n",
    "s=stack()\n",
    "s.push(4)\n",
    "s.push(1)\n",
    "s.push(2)\n",
    "s.push(3)\n",
    "print(s.item)\n",
    "s.pop()\n",
    "print(s.item)"
   ]
  },
  {
   "cell_type": "code",
   "execution_count": null,
   "id": "1c5d3d4b-8f9d-42b5-a4ce-61f3d2410e1c",
   "metadata": {},
   "outputs": [],
   "source": []
  }
 ],
 "metadata": {
  "kernelspec": {
   "display_name": "Python 3 (ipykernel)",
   "language": "python",
   "name": "python3"
  },
  "language_info": {
   "codemirror_mode": {
    "name": "ipython",
    "version": 3
   },
   "file_extension": ".py",
   "mimetype": "text/x-python",
   "name": "python",
   "nbconvert_exporter": "python",
   "pygments_lexer": "ipython3",
   "version": "3.12.3"
  },
  "widgets": {
   "application/vnd.jupyter.widget-state+json": {
    "state": {},
    "version_major": 2,
    "version_minor": 0
   }
  }
 },
 "nbformat": 4,
 "nbformat_minor": 5
}

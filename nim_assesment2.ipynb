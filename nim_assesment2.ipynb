{
 "cells": [
  {
   "cell_type": "code",
   "execution_count": null,
   "id": "204abf32-0bce-4cdb-b826-e6bdd26cc31c",
   "metadata": {},
   "outputs": [],
   "source": [
    "#day 2"
   ]
  },
  {
   "cell_type": "code",
   "execution_count": 1,
   "id": "cf678329-bbd2-4a46-9989-bc02727c7996",
   "metadata": {},
   "outputs": [
    {
     "name": "stdout",
     "output_type": "stream",
     "text": [
      "the sum if elements in given list : 177\n"
     ]
    }
   ],
   "source": [
    "#sum of elements in a list\n",
    "\n",
    "sum=0\n",
    "\n",
    "new=[11,22,34,45,65]\n",
    "\n",
    "if len(new)==0:\n",
    "    print(\"list is empty\")\n",
    "else:\n",
    "    for i in range(0,len(new)):\n",
    "        sum=sum+new[i]\n",
    "    print(\"the sum if elements in given list :\",sum)"
   ]
  },
  {
   "cell_type": "code",
   "execution_count": 2,
   "id": "81d4a318-5be4-4a30-bc13-4c8c47dd6114",
   "metadata": {},
   "outputs": [
    {
     "name": "stdin",
     "output_type": "stream",
     "text": [
      "enter the length of the list: 3\n",
      " 2\n",
      " 23\n",
      " 55\n"
     ]
    },
    {
     "name": "stdout",
     "output_type": "stream",
     "text": [
      "[2, 23, 55]\n",
      "the sum if elements in given list : 80\n"
     ]
    }
   ],
   "source": [
    "#taking list elements from user\n",
    "\n",
    "n=int(input(\"enter the length of the list:\"))\n",
    "a=[]\n",
    "sum=0\n",
    "\n",
    "for i in range(0,n):\n",
    "    i=int(input())\n",
    "    a.append(i)\n",
    "print(a)\n",
    "\n",
    "if len(a)==0:\n",
    "    print(\"list is empty\")\n",
    "else:\n",
    "    for j in range(0,len(a)):\n",
    "        sum=sum+a[j]\n",
    "    print(\"the sum if elements in given list :\",sum)"
   ]
  },
  {
   "cell_type": "code",
   "execution_count": 3,
   "id": "0626667e-9604-484a-97a4-59dac3b1f6c8",
   "metadata": {},
   "outputs": [
    {
     "name": "stdout",
     "output_type": "stream",
     "text": [
      "sum calculated sucessfully\n",
      "sum= 177\n"
     ]
    }
   ],
   "source": [
    "#handling exceptions\n",
    "\n",
    "sum=0\n",
    "new=[11,22,34,45,65]\n",
    "\n",
    "try:\n",
    "    for i in range(0,len(new)):\n",
    "        sum=sum+new[i]\n",
    "except ValueError:\n",
    "    print(\"only integer values\")\n",
    "except:\n",
    "    print(\"list is empty\")\n",
    "else:\n",
    "    print(\"sum calculated sucessfully\")\n",
    "    print(\"sum=\",sum)"
   ]
  },
  {
   "cell_type": "code",
   "execution_count": 4,
   "id": "f2facc5b-0230-455f-b666-b4249a050fc7",
   "metadata": {},
   "outputs": [
    {
     "name": "stdout",
     "output_type": "stream",
     "text": [
      "sucessfully calculated avg\n",
      "average grade is: 76.6\n"
     ]
    }
   ],
   "source": [
    "#student grade\n",
    "\n",
    "std={\"nim\":75 , \"adi\":91 , \"rak\":87 , \"vin\":60 , \"nik\":70}\n",
    "total=0\n",
    "num=len(std)\n",
    "\n",
    "try:\n",
    "    for i in std.values():\n",
    "        total+=i\n",
    "    avg=total/num\n",
    "    \n",
    "except:\n",
    "    print(\"dictionary is empty\")\n",
    "else:\n",
    "    print(\"sucessfully calculated avg\")\n",
    "    print(\"average grade is:\",avg)"
   ]
  },
  {
   "cell_type": "code",
   "execution_count": 5,
   "id": "74edc3c1-a1c8-4180-b620-0a5a7172e540",
   "metadata": {},
   "outputs": [
    {
     "name": "stdout",
     "output_type": "stream",
     "text": [
      "dictionary is empty\n"
     ]
    }
   ],
   "source": [
    "#student grade2\n",
    "\n",
    "std={}\n",
    "total=0\n",
    "num=len(std)\n",
    "\n",
    "try:\n",
    "    for i in std.values():\n",
    "        total+=i\n",
    "    avg=total/num\n",
    "    \n",
    "except:\n",
    "    print(\"dictionary is empty\")\n",
    "else:\n",
    "    print(\"sucessfully calculated avg\")\n",
    "    print(\"average grade is:\",avg)"
   ]
  },
  {
   "cell_type": "code",
   "execution_count": null,
   "id": "f8053c3f-a029-444a-8d45-80519a5048d6",
   "metadata": {},
   "outputs": [],
   "source": []
  }
 ],
 "metadata": {
  "kernelspec": {
   "display_name": "Python 3 (ipykernel)",
   "language": "python",
   "name": "python3"
  },
  "language_info": {
   "codemirror_mode": {
    "name": "ipython",
    "version": 3
   },
   "file_extension": ".py",
   "mimetype": "text/x-python",
   "name": "python",
   "nbconvert_exporter": "python",
   "pygments_lexer": "ipython3",
   "version": "3.12.3"
  },
  "widgets": {
   "application/vnd.jupyter.widget-state+json": {
    "state": {},
    "version_major": 2,
    "version_minor": 0
   }
  }
 },
 "nbformat": 4,
 "nbformat_minor": 5
}

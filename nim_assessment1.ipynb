{
 "cells": [
  {
   "cell_type": "code",
   "execution_count": null,
   "id": "148c14f4-5593-42a7-b5e4-914dd2d049d3",
   "metadata": {},
   "outputs": [],
   "source": [
    "#day 1"
   ]
  },
  {
   "cell_type": "code",
   "execution_count": 4,
   "id": "4baf77e3-2673-4e5b-a10a-19ed90aa45f3",
   "metadata": {},
   "outputs": [
    {
     "name": "stdin",
     "output_type": "stream",
     "text": [
      "enter a number 454\n"
     ]
    },
    {
     "name": "stdout",
     "output_type": "stream",
     "text": [
      "palindrome\n"
     ]
    }
   ],
   "source": [
    "#palendrome\n",
    "\n",
    "n=int(input(\"enter a number\"))\n",
    "temp=n\n",
    "rev=0\n",
    "while n!=0:\n",
    "    rem=n%10\n",
    "    rev=rev*10+rem\n",
    "    n=n//10\n",
    "if temp==rev:\n",
    "    print(\"palindrome\")\n",
    "else:\n",
    "    print(\"nt a palindrome\")"
   ]
  },
  {
   "cell_type": "code",
   "execution_count": 9,
   "id": "d4aee2fa-4aed-49ca-bfd4-0b8fa1c0443c",
   "metadata": {},
   "outputs": [
    {
     "name": "stdout",
     "output_type": "stream",
     "text": [
      "Reversed Number: 4321\n"
     ]
    }
   ],
   "source": [
    "#reverse a number\n",
    "\n",
    "num = 1234\n",
    "reversed_num = 0\n",
    "\n",
    "while num != 0:\n",
    "    digit = num % 10\n",
    "    reversed_num = reversed_num * 10 + digit\n",
    "    num //= 10\n",
    "\n",
    "print(\"Reversed Number: \" + str(reversed_num))"
   ]
  },
  {
   "cell_type": "code",
   "execution_count": 14,
   "id": "34cbbd44-c580-47e1-b7dc-57fea29cc825",
   "metadata": {},
   "outputs": [
    {
     "name": "stdin",
     "output_type": "stream",
     "text": [
      "enter the number 5\n"
     ]
    },
    {
     "name": "stdout",
     "output_type": "stream",
     "text": [
      "5 is a prime number\n"
     ]
    }
   ],
   "source": [
    "#prime number\n",
    "\n",
    "num = int(input(\"enter the number\"))\n",
    "if num > 1:\n",
    "     for i in range(2, (num//2)+1):\n",
    "         if (num % i) == 0:\n",
    "            print(num, \"is not a prime number\")\n",
    "            break\n",
    "     else:\n",
    "        print(num, \"is a prime number\")\n",
    "else:\n",
    "    print(num, \"is not a prime number\")\n",
    "        "
   ]
  },
  {
   "cell_type": "code",
   "execution_count": 1,
   "id": "8f252f78-1a85-4707-9709-cee9dc4b8276",
   "metadata": {},
   "outputs": [
    {
     "name": "stdin",
     "output_type": "stream",
     "text": [
      "Enter first value:  3\n",
      "Enter second value:  3\n"
     ]
    },
    {
     "name": "stdout",
     "output_type": "stream",
     "text": [
      "Press 1 for Addittion \n",
      "Press 2 for Subtraction \n",
      "Press 3 for Multiplication \n",
      "Press 4 for Division \n",
      " Press 5 for power\n"
     ]
    },
    {
     "name": "stdin",
     "output_type": "stream",
     "text": [
      "Enter your option:  5\n"
     ]
    },
    {
     "name": "stdout",
     "output_type": "stream",
     "text": [
      "power :  27\n"
     ]
    }
   ],
   "source": [
    "#operations\n",
    "\n",
    "\n",
    "a = int(input(\"Enter first value: \"))\n",
    "b = int(input(\"Enter second value: \"))\n",
    "print(\"Press 1 for Addittion \\nPress 2 for Subtraction \\nPress 3 for Multiplication \\nPress 4 for Division \\n Press 5 for power\")\n",
    "option = int(input(\"Enter your option: \"))\n",
    "if option == 1:\n",
    "    result = a+b\n",
    "    print(\"Addition : \", result)\n",
    "elif option == 2:\n",
    "    result = a-b\n",
    "    print(\"Subtraction : \",result)\n",
    "elif option == 3:\n",
    "    result = a*b\n",
    "    print(\"Multiplication : \", result)\n",
    "elif option == 4:\n",
    "    result = a/b\n",
    "    print(\"Division : \",result)\n",
    "elif option == 5:\n",
    "    result = a**b\n",
    "    print(\"power : \",result)\n",
    "else:\n",
    "    print(\"Invalid Value\")\n"
   ]
  },
  {
   "cell_type": "code",
   "execution_count": 21,
   "id": "9e10bc14-3d52-409a-b22b-028b2b3b60f0",
   "metadata": {},
   "outputs": [
    {
     "name": "stdin",
     "output_type": "stream",
     "text": [
      "enter the input character @\n"
     ]
    },
    {
     "name": "stdout",
     "output_type": "stream",
     "text": [
      "Symbol\n"
     ]
    }
   ],
   "source": [
    "#to check if a character is upper/lower/number/symbol\n",
    "\n",
    "ch=input(\"enter the input character\")\n",
    "if ch>='A' and ch<='Z':\n",
    "    print(\"UPPER\")\n",
    "elif ch>='a' and ch<='z':\n",
    "    print(\"lower\")\n",
    "elif ch>='0' and ch<='9':\n",
    "    print(\"Number\")\n",
    "else:\n",
    "    print(\"Symbol\")"
   ]
  },
  {
   "cell_type": "code",
   "execution_count": 24,
   "id": "98930db8-674a-48e3-9176-c74ecebd5a6d",
   "metadata": {},
   "outputs": [
    {
     "name": "stdin",
     "output_type": "stream",
     "text": [
      "Enter a number:  0\n"
     ]
    },
    {
     "name": "stdout",
     "output_type": "stream",
     "text": [
      "The factorial of 0 is 1\n"
     ]
    }
   ],
   "source": [
    "#FACTORIAL\n",
    "\n",
    "num = int(input(\"Enter a number: \"))    \n",
    "factorial = 1    \n",
    "if num < 0:    \n",
    "   print(\" enter only +ve numbers\") \n",
    "elif num == 0:    \n",
    "   print(\"The factorial of 0 is 1\")    \n",
    "else:    \n",
    "   for i in range(1,num + 1):    \n",
    "       factorial = factorial*i    \n",
    "   print(\"The factorial of\",num,\"is\",factorial)"
   ]
  },
  {
   "cell_type": "code",
   "execution_count": null,
   "id": "19cccfbb-1f4c-4293-a6f3-e7e0aa11ea30",
   "metadata": {},
   "outputs": [],
   "source": []
  },
  {
   "cell_type": "code",
   "execution_count": null,
   "id": "f0260362-b2b2-4656-ae59-eb3ab63a9c74",
   "metadata": {},
   "outputs": [],
   "source": [
    "#day 2"
   ]
  },
  {
   "cell_type": "code",
   "execution_count": 4,
   "id": "72e95c73-dc2f-4d0c-a8e4-6f20042cdf26",
   "metadata": {},
   "outputs": [
    {
     "name": "stdout",
     "output_type": "stream",
     "text": [
      "list is empty\n"
     ]
    }
   ],
   "source": [
    "#sum of elements in a list\n",
    "\n",
    "sum=0\n",
    "\n",
    "new=[11,22,34,45,65]\n",
    "\n",
    "if len(new)==0:\n",
    "    print(\"list is empty\")\n",
    "else:\n",
    "    for i in range(0,len(new)):\n",
    "        sum=sum+new[i]\n",
    "    print(\"the sum if elements in given list :\",sum)"
   ]
  },
  {
   "cell_type": "code",
   "execution_count": 3,
   "id": "869a02fb-674f-4b4a-b3ce-476229d1c966",
   "metadata": {},
   "outputs": [
    {
     "name": "stdin",
     "output_type": "stream",
     "text": [
      "enter the length of the list: 5\n",
      " 2\n",
      " 4\n",
      " 8\n",
      " 9\n",
      " 0\n"
     ]
    },
    {
     "name": "stdout",
     "output_type": "stream",
     "text": [
      "[2, 4, 8, 9, 0]\n",
      "the sum if elements in given list : 23\n"
     ]
    }
   ],
   "source": [
    "#taking list elements from user\n",
    "\n",
    "n=int(input(\"enter the length of the list:\"))\n",
    "a=[]\n",
    "sum=0\n",
    "\n",
    "for i in range(0,n):\n",
    "    i=int(input())\n",
    "    a.append(i)\n",
    "print(a)\n",
    "\n",
    "if len(a)==0:\n",
    "    print(\"list is empty\")\n",
    "else:\n",
    "    for j in range(0,len(a)):\n",
    "        sum=sum+a[j]\n",
    "    print(\"the sum if elements in given list :\",sum)"
   ]
  },
  {
   "cell_type": "code",
   "execution_count": 7,
   "id": "2223e037-0ec4-45fb-9681-63cde1a5f7da",
   "metadata": {},
   "outputs": [
    {
     "name": "stdout",
     "output_type": "stream",
     "text": [
      "sum calculated sucessfully\n",
      "sum= 177\n"
     ]
    }
   ],
   "source": [
    "#handling exceptions\n",
    "\n",
    "sum=0\n",
    "new=[11,22,34,45,65]\n",
    "\n",
    "try:\n",
    "    for i in range(0,len(new)):\n",
    "        sum=sum+new[i]\n",
    "except ValueError:\n",
    "    print(\"only integer values\")\n",
    "except:\n",
    "    print(\"list is empty\")\n",
    "else:\n",
    "    print(\"sum calculated sucessfully\")\n",
    "    print(\"sum=\",sum)"
   ]
  },
  {
   "cell_type": "code",
   "execution_count": 11,
   "id": "146185b5-b6ab-4dc7-9418-1526d9420435",
   "metadata": {},
   "outputs": [
    {
     "name": "stdout",
     "output_type": "stream",
     "text": [
      "sucessfully calculated avg\n",
      "average grade is: 76.6\n"
     ]
    }
   ],
   "source": [
    "#student grade\n",
    "\n",
    "std={\"nim\":75 , \"adi\":91 , \"rak\":87 , \"vin\":60 , \"nik\":70}\n",
    "total=0\n",
    "num=len(std)\n",
    "\n",
    "try:\n",
    "    for i in std.values():\n",
    "        total+=i\n",
    "    avg=total/num\n",
    "    \n",
    "except:\n",
    "    print(\"dictionary is empty\")\n",
    "else:\n",
    "    print(\"sucessfully calculated avg\")\n",
    "    print(\"average grade is:\",avg)"
   ]
  },
  {
   "cell_type": "code",
   "execution_count": 12,
   "id": "2aa4e9ea-283b-41d4-849e-00864850d3b4",
   "metadata": {},
   "outputs": [
    {
     "name": "stdout",
     "output_type": "stream",
     "text": [
      "dictionary is empty\n"
     ]
    }
   ],
   "source": [
    "#student grade2\n",
    "\n",
    "std={}\n",
    "total=0\n",
    "num=len(std)\n",
    "\n",
    "try:\n",
    "    for i in std.values():\n",
    "        total+=i\n",
    "    avg=total/num\n",
    "    \n",
    "except:\n",
    "    print(\"dictionary is empty\")\n",
    "else:\n",
    "    print(\"sucessfully calculated avg\")\n",
    "    print(\"average grade is:\",avg)"
   ]
  },
  {
   "cell_type": "code",
   "execution_count": null,
   "id": "1a992c9b-1429-48ee-83b6-0a7e78f69196",
   "metadata": {},
   "outputs": [],
   "source": []
  }
 ],
 "metadata": {
  "kernelspec": {
   "display_name": "Python 3 (ipykernel)",
   "language": "python",
   "name": "python3"
  },
  "language_info": {
   "codemirror_mode": {
    "name": "ipython",
    "version": 3
   },
   "file_extension": ".py",
   "mimetype": "text/x-python",
   "name": "python",
   "nbconvert_exporter": "python",
   "pygments_lexer": "ipython3",
   "version": "3.12.3"
  },
  "widgets": {
   "application/vnd.jupyter.widget-state+json": {
    "state": {},
    "version_major": 2,
    "version_minor": 0
   }
  }
 },
 "nbformat": 4,
 "nbformat_minor": 5
}

{
 "cells": [
  {
   "cell_type": "code",
   "execution_count": 51,
   "id": "b528e5cf-885f-41c5-871a-2e3c58a359e0",
   "metadata": {},
   "outputs": [
    {
     "name": "stdin",
     "output_type": "stream",
     "text": [
      "enter the fruit name \n",
      " apple\n",
      "enter the fruit name \n",
      " banana\n",
      "enter the fruit name \n",
      " mango\n",
      "enter the fruit name \n",
      " grapes\n"
     ]
    },
    {
     "name": "stdout",
     "output_type": "stream",
     "text": [
      "apple\n",
      "banana\n",
      "mango\n",
      "grapes\n",
      "\n",
      "apple\n",
      "watermelon\n",
      "mango\n",
      "grapes\n",
      "\n"
     ]
    }
   ],
   "source": [
    "import os\n",
    "\n",
    "with open(\"fruit_name.txt\",'w') as f:\n",
    "    for i in range(0,4):\n",
    "        f.write(input(\"enter the fruit name \\n\"))\n",
    "        f.write(\"\\n\")\n",
    "    \n",
    "\n",
    "with open(\"fruit_name.txt\",'r')as f:\n",
    "    a=f.read()\n",
    "    print(a)\n",
    "    \n",
    "    replaced_contents = a.replace('banana', 'watermelon')\n",
    "    print(replaced_contents )\n",
    "f.close()\n",
    "    "
   ]
  },
  {
   "cell_type": "code",
   "execution_count": 4,
   "id": "edc36c13-4606-41eb-a8d4-6e3109632c05",
   "metadata": {},
   "outputs": [
    {
     "name": "stdin",
     "output_type": "stream",
     "text": [
      "enter the temperature in celsius 0\n"
     ]
    },
    {
     "name": "stdout",
     "output_type": "stream",
     "text": [
      "the converted temperature is(Fahrenheit.) :  32.0\n"
     ]
    }
   ],
   "source": [
    "#Convert a temperature from Celsius to Fahrenheit.\n",
    "\n",
    "temp=float(input(\"enter the temperature in celsius\"))\n",
    "f=(temp*9/5)+32\n",
    "print (\"the converted temperature is(Fahrenheit.) : \",f)"
   ]
  },
  {
   "cell_type": "code",
   "execution_count": 10,
   "id": "29280ce2-9407-46df-a6fe-54275bb36a51",
   "metadata": {},
   "outputs": [
    {
     "name": "stdout",
     "output_type": "stream",
     "text": [
      "the second largest element in a list is :  26\n"
     ]
    }
   ],
   "source": [
    "#Find the second largest element in a list.\n",
    "\n",
    "a=[11,22,43,1,26,9]\n",
    "a.sort()\n",
    "\n",
    "print(\"the second largest element in a list is : \",a[-2])"
   ]
  },
  {
   "cell_type": "code",
   "execution_count": 43,
   "id": "9d0927b4-f9a9-4460-b6fa-ecd1ca5c2be4",
   "metadata": {},
   "outputs": [
    {
     "name": "stdin",
     "output_type": "stream",
     "text": [
      "enter the element to be searched 1\n"
     ]
    },
    {
     "name": "stdout",
     "output_type": "stream",
     "text": [
      "1  has appeared in the list 0 times\n"
     ]
    }
   ],
   "source": [
    "#Count the occurrences of each element in a list.\n",
    "\n",
    "a=[11,2,3,2,4,55,2,3]\n",
    "count=0\n",
    "key=int(input(\"enter the element to be searched\"))\n",
    "for i in a:\n",
    "    if i==key:\n",
    "        count=count+1\n",
    "print(key,\" has appeared in the list\",count,\"times\")"
   ]
  },
  {
   "cell_type": "code",
   "execution_count": 46,
   "id": "91154ce1-8e99-4dc0-9a1e-82ba24939be8",
   "metadata": {},
   "outputs": [
    {
     "name": "stdout",
     "output_type": "stream",
     "text": [
      "sum= 10\n"
     ]
    }
   ],
   "source": [
    "#Find the sum of all even numbers in a list.\n",
    "\n",
    "a=[11,2,3,2,4,55,2,3]\n",
    "sum=0\n",
    "\n",
    "for i in range (0,len(a)):\n",
    "    if a[i]%2==0:\n",
    "        sum=sum+a[i]\n",
    "    \n",
    "    \n",
    "print(\"sum=\",sum)"
   ]
  },
  {
   "cell_type": "code",
   "execution_count": 50,
   "id": "6a78794d-bb61-4856-a840-b702de491ff9",
   "metadata": {},
   "outputs": [
    {
     "name": "stdout",
     "output_type": "stream",
     "text": [
      "nimra\n",
      "the total vowels in string is: 2\n"
     ]
    }
   ],
   "source": [
    "#Count the number of vowels in a string\n",
    "\n",
    "a=\"nimra\"\n",
    "c=0\n",
    "print(a)\n",
    "\n",
    "for i in range(0,len(a)):\n",
    "    if a[i]=='a':\n",
    "        c=c+1\n",
    "    elif a[i]=='e':\n",
    "        c=c+1\n",
    "    elif a[i]=='i':\n",
    "        c=c+1  \n",
    "    elif a[i]=='o':\n",
    "        c=c+1\n",
    "    elif a[i]=='u':\n",
    "        c=c+1\n",
    "print(\"the total vowels in string is:\",c)\n",
    "\n",
    "        "
   ]
  },
  {
   "cell_type": "code",
   "execution_count": 4,
   "id": "7003e97e-29a7-4451-9e2f-587974097cdc",
   "metadata": {},
   "outputs": [
    {
     "name": "stdin",
     "output_type": "stream",
     "text": [
      "enter a string hello everyone\n"
     ]
    },
    {
     "name": "stdout",
     "output_type": "stream",
     "text": [
      "hello everyone\n",
      "the total vowels in string is: 6\n"
     ]
    }
   ],
   "source": [
    "#Count the number of vowels in a string taking input from the user\n",
    "\n",
    "a=input(\"enter a string\")\n",
    "c=0\n",
    "print(a)\n",
    "\n",
    "for i in range(0,len(a)):\n",
    "    if a[i]=='a':\n",
    "        c=c+1\n",
    "    elif a[i]=='e':\n",
    "        c=c+1\n",
    "    elif a[i]=='i':\n",
    "        c=c+1  \n",
    "    elif a[i]=='o':\n",
    "        c=c+1\n",
    "    elif a[i]=='u':\n",
    "        c=c+1\n",
    "print(\"the total vowels in string is:\",c)"
   ]
  },
  {
   "cell_type": "code",
   "execution_count": 3,
   "id": "bcf9c08f-82e0-4c95-bad8-9892d43e5598",
   "metadata": {},
   "outputs": [
    {
     "name": "stdout",
     "output_type": "stream",
     "text": [
      "revers word: dlrow olleh\n"
     ]
    }
   ],
   "source": [
    "#Reverse the words in a given sentence\n",
    "\n",
    "string=\"hello world\"\n",
    "new_string=\"\"\n",
    "\n",
    "for i in range(len(string)-1,-1,-1):\n",
    "    new_string+=string[i]\n",
    "print(\"revers word:\",new_string)\n",
    "\n"
   ]
  },
  {
   "cell_type": "code",
   "execution_count": null,
   "id": "77790705-7d68-408f-bb24-6aec465769a0",
   "metadata": {},
   "outputs": [],
   "source": []
  }
 ],
 "metadata": {
  "kernelspec": {
   "display_name": "Python 3 (ipykernel)",
   "language": "python",
   "name": "python3"
  },
  "language_info": {
   "codemirror_mode": {
    "name": "ipython",
    "version": 3
   },
   "file_extension": ".py",
   "mimetype": "text/x-python",
   "name": "python",
   "nbconvert_exporter": "python",
   "pygments_lexer": "ipython3",
   "version": "3.12.3"
  },
  "widgets": {
   "application/vnd.jupyter.widget-state+json": {
    "state": {},
    "version_major": 2,
    "version_minor": 0
   }
  }
 },
 "nbformat": 4,
 "nbformat_minor": 5
}

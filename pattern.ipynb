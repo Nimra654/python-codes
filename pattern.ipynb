{
 "cells": [
  {
   "cell_type": "code",
   "execution_count": 3,
   "id": "6d6a11fe-729a-40be-858c-e6f5f09796ca",
   "metadata": {},
   "outputs": [
    {
     "name": "stdout",
     "output_type": "stream",
     "text": [
      "*\n",
      "**\n",
      "***\n",
      "****\n",
      "*****\n"
     ]
    }
   ],
   "source": [
    "#1\n",
    "\n",
    "n=5\n",
    "for i in range(0,n):\n",
    "    for j in range(0,i+1):\n",
    "        print(\"*\",end=\"\")\n",
    "    print()\n"
   ]
  },
  {
   "cell_type": "code",
   "execution_count": 20,
   "id": "25eb3376-af9b-4691-b1be-469e2e2fc443",
   "metadata": {},
   "outputs": [
    {
     "name": "stdout",
     "output_type": "stream",
     "text": [
      "*****\n",
      "****\n",
      "***\n",
      "**\n",
      "*\n",
      "\n"
     ]
    }
   ],
   "source": [
    "#2\n",
    "\n",
    "n=5\n",
    "for i in range(n+1,0,-1):\n",
    "    for j in range(1,i):\n",
    "        print(\"*\",end=\"\")\n",
    "    print(\"\\r\")\n",
    "    "
   ]
  },
  {
   "cell_type": "code",
   "execution_count": 42,
   "id": "e058ff98-524e-49bc-b55a-c2abc8344bb6",
   "metadata": {},
   "outputs": [
    {
     "name": "stdout",
     "output_type": "stream",
     "text": [
      " * * * * *\n",
      " *       *\n",
      " *       *\n",
      " *       *\n",
      " * * * * *\n"
     ]
    }
   ],
   "source": [
    "#3\n",
    "\n",
    "n=5\n",
    "for i in range(0,n):\n",
    "    for j in range(0,n):\n",
    "        if(i==0 or i==n-1 or j==0 or j==n-1):\n",
    "            print(\" *\",end=\"\")\n",
    "        else:\n",
    "            print(\" \",end=\" \")\n",
    "    print()\n",
    "\n",
    "    #print(\"*\",end=\"\")\n",
    "    #print()"
   ]
  },
  {
   "cell_type": "code",
   "execution_count": 47,
   "id": "b3e7bcb1-70ae-443a-a441-bd966ba76440",
   "metadata": {},
   "outputs": [
    {
     "name": "stdout",
     "output_type": "stream",
     "text": [
      "     \n",
      "    *\n",
      "   ***\n",
      "  *****\n",
      " *******\n",
      "*********\n"
     ]
    }
   ],
   "source": [
    "#4\n",
    "\n",
    "n=5\n",
    "for i in range(0,n+1):\n",
    "    for j in range(n - i):\n",
    "        print(\" \",end=\"\")\n",
    "    for k in range(1,2*i):\n",
    "        print(\"*\",end=\"\")\n",
    "    print()\n",
    "        "
   ]
  },
  {
   "cell_type": "code",
   "execution_count": 51,
   "id": "a5c1624f-0d0e-4304-957d-7effaf62d88e",
   "metadata": {},
   "outputs": [
    {
     "name": "stdout",
     "output_type": "stream",
     "text": [
      "     \n",
      "    1\n",
      "   123\n",
      "  12345\n",
      " 1234567\n",
      "123456789\n"
     ]
    }
   ],
   "source": [
    "#5\n",
    "\n",
    "n=5\n",
    "for i in range(0,n+1):\n",
    "    for j in range (n-i):\n",
    "        print(\" \",end=\"\")\n",
    "    for k in range(1,2*i):\n",
    "        print(k,end=\"\")\n",
    "    print()"
   ]
  },
  {
   "cell_type": "code",
   "execution_count": 54,
   "id": "3210cfaf-5ec8-4a58-8dc8-b51c48df47bf",
   "metadata": {},
   "outputs": [
    {
     "name": "stdout",
     "output_type": "stream",
     "text": [
      " * * * * * *\n",
      " * * * * * *\n",
      " * * * * * *\n",
      " * * * * * *\n",
      " * * * * * *\n",
      " * * * * * *\n"
     ]
    }
   ],
   "source": [
    "#6\n",
    "\n",
    "n=5\n",
    "\n",
    "for i in range(0,n+1):\n",
    "    for j in range(0,n+1):\n",
    "        print(\" *\",end=\"\")\n",
    "    print()   "
   ]
  },
  {
   "cell_type": "code",
   "execution_count": 13,
   "id": "e5a84f93-0b20-437d-a3b3-81e65dab6a22",
   "metadata": {},
   "outputs": [
    {
     "name": "stdout",
     "output_type": "stream",
     "text": [
      " x x x x x x x x x\n",
      "   x x x x x x x\n",
      "     x x x x x\n",
      "       x x x\n",
      "         x\n"
     ]
    }
   ],
   "source": [
    "#7\n",
    "\n",
    "n=5\n",
    "\n",
    "for i in range(n,0,-1):\n",
    "    for j in range(n-i):\n",
    "        print(\" \",end=\" \")\n",
    "    for k in range(2*i-1):\n",
    "        print(\" x\",end=\"\")\n",
    "    print()"
   ]
  },
  {
   "cell_type": "code",
   "execution_count": 2,
   "id": "ab733090-56df-4502-ab73-aa39d9b9a95e",
   "metadata": {},
   "outputs": [
    {
     "name": "stdout",
     "output_type": "stream",
     "text": [
      "5\n"
     ]
    }
   ],
   "source": [
    "#8\n",
    "\n",
    "n=5\n",
    "\n",
    "\n"
   ]
  }
 ],
 "metadata": {
  "kernelspec": {
   "display_name": "Python 3 (ipykernel)",
   "language": "python",
   "name": "python3"
  },
  "language_info": {
   "codemirror_mode": {
    "name": "ipython",
    "version": 3
   },
   "file_extension": ".py",
   "mimetype": "text/x-python",
   "name": "python",
   "nbconvert_exporter": "python",
   "pygments_lexer": "ipython3",
   "version": "3.12.3"
  },
  "widgets": {
   "application/vnd.jupyter.widget-state+json": {
    "state": {},
    "version_major": 2,
    "version_minor": 0
   }
  }
 },
 "nbformat": 4,
 "nbformat_minor": 5
}
